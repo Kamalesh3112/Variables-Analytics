{
 "cells": [
  {
   "cell_type": "code",
   "execution_count": 1,
   "metadata": {},
   "outputs": [],
   "source": [
    "import pandas as pd"
   ]
  },
  {
   "cell_type": "code",
   "execution_count": 2,
   "metadata": {},
   "outputs": [],
   "source": [
    "data_source = 'http://wiki.stat.ucla.edu/socr/index.php/SOCR_Data_Dinov_020108_HeightsWeights'\n",
    "data = pd.read_html(data_source)"
   ]
  },
  {
   "cell_type": "code",
   "execution_count": 3,
   "metadata": {},
   "outputs": [
    {
     "data": {
      "text/plain": [
       "list"
      ]
     },
     "execution_count": 3,
     "metadata": {},
     "output_type": "execute_result"
    }
   ],
   "source": [
    "type(data)"
   ]
  },
  {
   "cell_type": "code",
   "execution_count": 4,
   "metadata": {},
   "outputs": [
    {
     "data": {
      "text/plain": [
       "3"
      ]
     },
     "execution_count": 4,
     "metadata": {},
     "output_type": "execute_result"
    }
   ],
   "source": [
    "len(data)"
   ]
  },
  {
   "cell_type": "code",
   "execution_count": 5,
   "metadata": {},
   "outputs": [
    {
     "data": {
      "text/html": [
       "<div>\n",
       "<style scoped>\n",
       "    .dataframe tbody tr th:only-of-type {\n",
       "        vertical-align: middle;\n",
       "    }\n",
       "\n",
       "    .dataframe tbody tr th {\n",
       "        vertical-align: top;\n",
       "    }\n",
       "\n",
       "    .dataframe thead th {\n",
       "        text-align: right;\n",
       "    }\n",
       "</style>\n",
       "<table border=\"1\" class=\"dataframe\">\n",
       "  <thead>\n",
       "    <tr style=\"text-align: right;\">\n",
       "      <th></th>\n",
       "      <th>0</th>\n",
       "    </tr>\n",
       "  </thead>\n",
       "  <tbody>\n",
       "    <tr>\n",
       "      <th>0</th>\n",
       "      <td>Contents 1 SOCR Data - 25,000 Records of Human...</td>\n",
       "    </tr>\n",
       "  </tbody>\n",
       "</table>\n",
       "</div>"
      ],
      "text/plain": [
       "                                                   0\n",
       "0  Contents 1 SOCR Data - 25,000 Records of Human..."
      ]
     },
     "execution_count": 5,
     "metadata": {},
     "output_type": "execute_result"
    }
   ],
   "source": [
    "data[0]"
   ]
  },
  {
   "cell_type": "code",
   "execution_count": 6,
   "metadata": {},
   "outputs": [
    {
     "data": {
      "text/html": [
       "<div>\n",
       "<style scoped>\n",
       "    .dataframe tbody tr th:only-of-type {\n",
       "        vertical-align: middle;\n",
       "    }\n",
       "\n",
       "    .dataframe tbody tr th {\n",
       "        vertical-align: top;\n",
       "    }\n",
       "\n",
       "    .dataframe thead th {\n",
       "        text-align: right;\n",
       "    }\n",
       "</style>\n",
       "<table border=\"1\" class=\"dataframe\">\n",
       "  <thead>\n",
       "    <tr style=\"text-align: right;\">\n",
       "      <th></th>\n",
       "      <th>Index</th>\n",
       "      <th>Height(Inches)</th>\n",
       "      <th>Weight(Pounds)</th>\n",
       "    </tr>\n",
       "  </thead>\n",
       "  <tbody>\n",
       "    <tr>\n",
       "      <th>0</th>\n",
       "      <td>1</td>\n",
       "      <td>65.78</td>\n",
       "      <td>112.99</td>\n",
       "    </tr>\n",
       "    <tr>\n",
       "      <th>1</th>\n",
       "      <td>2</td>\n",
       "      <td>71.52</td>\n",
       "      <td>136.49</td>\n",
       "    </tr>\n",
       "    <tr>\n",
       "      <th>2</th>\n",
       "      <td>3</td>\n",
       "      <td>69.40</td>\n",
       "      <td>153.03</td>\n",
       "    </tr>\n",
       "    <tr>\n",
       "      <th>3</th>\n",
       "      <td>4</td>\n",
       "      <td>68.22</td>\n",
       "      <td>142.34</td>\n",
       "    </tr>\n",
       "    <tr>\n",
       "      <th>4</th>\n",
       "      <td>5</td>\n",
       "      <td>67.79</td>\n",
       "      <td>144.30</td>\n",
       "    </tr>\n",
       "    <tr>\n",
       "      <th>...</th>\n",
       "      <td>...</td>\n",
       "      <td>...</td>\n",
       "      <td>...</td>\n",
       "    </tr>\n",
       "    <tr>\n",
       "      <th>195</th>\n",
       "      <td>196</td>\n",
       "      <td>65.80</td>\n",
       "      <td>120.84</td>\n",
       "    </tr>\n",
       "    <tr>\n",
       "      <th>196</th>\n",
       "      <td>197</td>\n",
       "      <td>66.11</td>\n",
       "      <td>115.78</td>\n",
       "    </tr>\n",
       "    <tr>\n",
       "      <th>197</th>\n",
       "      <td>198</td>\n",
       "      <td>68.24</td>\n",
       "      <td>128.30</td>\n",
       "    </tr>\n",
       "    <tr>\n",
       "      <th>198</th>\n",
       "      <td>199</td>\n",
       "      <td>68.02</td>\n",
       "      <td>127.47</td>\n",
       "    </tr>\n",
       "    <tr>\n",
       "      <th>199</th>\n",
       "      <td>200</td>\n",
       "      <td>71.39</td>\n",
       "      <td>127.88</td>\n",
       "    </tr>\n",
       "  </tbody>\n",
       "</table>\n",
       "<p>200 rows × 3 columns</p>\n",
       "</div>"
      ],
      "text/plain": [
       "     Index  Height(Inches)  Weight(Pounds)\n",
       "0        1           65.78          112.99\n",
       "1        2           71.52          136.49\n",
       "2        3           69.40          153.03\n",
       "3        4           68.22          142.34\n",
       "4        5           67.79          144.30\n",
       "..     ...             ...             ...\n",
       "195    196           65.80          120.84\n",
       "196    197           66.11          115.78\n",
       "197    198           68.24          128.30\n",
       "198    199           68.02          127.47\n",
       "199    200           71.39          127.88\n",
       "\n",
       "[200 rows x 3 columns]"
      ]
     },
     "execution_count": 6,
     "metadata": {},
     "output_type": "execute_result"
    }
   ],
   "source": [
    "data[1]"
   ]
  },
  {
   "cell_type": "code",
   "execution_count": 7,
   "metadata": {},
   "outputs": [
    {
     "data": {
      "text/html": [
       "<div>\n",
       "<style scoped>\n",
       "    .dataframe tbody tr th:only-of-type {\n",
       "        vertical-align: middle;\n",
       "    }\n",
       "\n",
       "    .dataframe tbody tr th {\n",
       "        vertical-align: top;\n",
       "    }\n",
       "\n",
       "    .dataframe thead th {\n",
       "        text-align: right;\n",
       "    }\n",
       "</style>\n",
       "<table border=\"1\" class=\"dataframe\">\n",
       "  <thead>\n",
       "    <tr style=\"text-align: right;\">\n",
       "      <th></th>\n",
       "      <th>0</th>\n",
       "      <th>1</th>\n",
       "      <th>2</th>\n",
       "      <th>3</th>\n",
       "      <th>4</th>\n",
       "      <th>5</th>\n",
       "      <th>6</th>\n",
       "      <th>7</th>\n",
       "      <th>8</th>\n",
       "      <th>9</th>\n",
       "      <th>10</th>\n",
       "      <th>11</th>\n",
       "    </tr>\n",
       "  </thead>\n",
       "  <tbody>\n",
       "    <tr>\n",
       "      <th>0</th>\n",
       "      <td>(default)</td>\n",
       "      <td>Deutsch</td>\n",
       "      <td>Español</td>\n",
       "      <td>Français</td>\n",
       "      <td>Italiano</td>\n",
       "      <td>Português</td>\n",
       "      <td>日本語</td>\n",
       "      <td>България</td>\n",
       "      <td>الامارات العربية المتحدة</td>\n",
       "      <td>Suomi</td>\n",
       "      <td>इस भाषा में</td>\n",
       "      <td>Norge</td>\n",
       "    </tr>\n",
       "    <tr>\n",
       "      <th>1</th>\n",
       "      <td>한국어</td>\n",
       "      <td>中文</td>\n",
       "      <td>繁体中文</td>\n",
       "      <td>Русский</td>\n",
       "      <td>Nederlands</td>\n",
       "      <td>Ελληνικά</td>\n",
       "      <td>Hrvatska</td>\n",
       "      <td>Česká republika</td>\n",
       "      <td>Danmark</td>\n",
       "      <td>Polska</td>\n",
       "      <td>România</td>\n",
       "      <td>Sverige</td>\n",
       "    </tr>\n",
       "  </tbody>\n",
       "</table>\n",
       "</div>"
      ],
      "text/plain": [
       "          0        1        2         3           4          5         6   \\\n",
       "0  (default)  Deutsch  Español  Français    Italiano  Português       日本語   \n",
       "1        한국어       中文     繁体中文   Русский  Nederlands   Ελληνικά  Hrvatska   \n",
       "\n",
       "                7                         8       9            10       11  \n",
       "0         България  الامارات العربية المتحدة   Suomi  इस भाषा में    Norge  \n",
       "1  Česká republika                   Danmark  Polska      România  Sverige  "
      ]
     },
     "execution_count": 7,
     "metadata": {},
     "output_type": "execute_result"
    }
   ],
   "source": [
    "data[2]"
   ]
  },
  {
   "cell_type": "code",
   "execution_count": 8,
   "metadata": {},
   "outputs": [],
   "source": [
    "df = data[0]"
   ]
  },
  {
   "cell_type": "code",
   "execution_count": 9,
   "metadata": {},
   "outputs": [
    {
     "data": {
      "text/html": [
       "<div>\n",
       "<style scoped>\n",
       "    .dataframe tbody tr th:only-of-type {\n",
       "        vertical-align: middle;\n",
       "    }\n",
       "\n",
       "    .dataframe tbody tr th {\n",
       "        vertical-align: top;\n",
       "    }\n",
       "\n",
       "    .dataframe thead th {\n",
       "        text-align: right;\n",
       "    }\n",
       "</style>\n",
       "<table border=\"1\" class=\"dataframe\">\n",
       "  <thead>\n",
       "    <tr style=\"text-align: right;\">\n",
       "      <th></th>\n",
       "      <th>0</th>\n",
       "    </tr>\n",
       "  </thead>\n",
       "  <tbody>\n",
       "    <tr>\n",
       "      <th>0</th>\n",
       "      <td>Contents 1 SOCR Data - 25,000 Records of Human...</td>\n",
       "    </tr>\n",
       "  </tbody>\n",
       "</table>\n",
       "</div>"
      ],
      "text/plain": [
       "                                                   0\n",
       "0  Contents 1 SOCR Data - 25,000 Records of Human..."
      ]
     },
     "execution_count": 9,
     "metadata": {},
     "output_type": "execute_result"
    }
   ],
   "source": [
    "df.head(10)"
   ]
  },
  {
   "cell_type": "code",
   "execution_count": 10,
   "metadata": {},
   "outputs": [
    {
     "data": {
      "text/html": [
       "<div>\n",
       "<style scoped>\n",
       "    .dataframe tbody tr th:only-of-type {\n",
       "        vertical-align: middle;\n",
       "    }\n",
       "\n",
       "    .dataframe tbody tr th {\n",
       "        vertical-align: top;\n",
       "    }\n",
       "\n",
       "    .dataframe thead th {\n",
       "        text-align: right;\n",
       "    }\n",
       "</style>\n",
       "<table border=\"1\" class=\"dataframe\">\n",
       "  <thead>\n",
       "    <tr style=\"text-align: right;\">\n",
       "      <th></th>\n",
       "      <th>0</th>\n",
       "    </tr>\n",
       "  </thead>\n",
       "  <tbody>\n",
       "    <tr>\n",
       "      <th>0</th>\n",
       "      <td>Contents 1 SOCR Data - 25,000 Records of Human...</td>\n",
       "    </tr>\n",
       "  </tbody>\n",
       "</table>\n",
       "</div>"
      ],
      "text/plain": [
       "                                                   0\n",
       "0  Contents 1 SOCR Data - 25,000 Records of Human..."
      ]
     },
     "execution_count": 10,
     "metadata": {},
     "output_type": "execute_result"
    }
   ],
   "source": [
    "df.tail(5)"
   ]
  },
  {
   "cell_type": "code",
   "execution_count": 11,
   "metadata": {},
   "outputs": [
    {
     "data": {
      "text/plain": [
       "Index             False\n",
       "Height(Inches)    False\n",
       "Weight(Pounds)    False\n",
       "dtype: bool"
      ]
     },
     "execution_count": 11,
     "metadata": {},
     "output_type": "execute_result"
    }
   ],
   "source": [
    "data[1].isnull ().any ()"
   ]
  },
  {
   "cell_type": "code",
   "execution_count": 12,
   "metadata": {},
   "outputs": [],
   "source": [
    "#Code Lines for Plotting Bar Plot"
   ]
  },
  {
   "cell_type": "code",
   "execution_count": 13,
   "metadata": {},
   "outputs": [],
   "source": [
    "import numpy as np\n",
    "import pandas as pd\n",
    "import matplotlib.pyplot as plt\n",
    "%matplotlib inline\n",
    "plt.rcParams.update({'figure.figsize':(7,5), 'figure.dpi':100})"
   ]
  },
  {
   "cell_type": "code",
   "execution_count": 14,
   "metadata": {},
   "outputs": [],
   "source": [
    "# Create Data\n",
    "x=['A','B','C','D','E','F']\n",
    "y= np.random.randint(low = 0, high = 100, size = 6)"
   ]
  },
  {
   "cell_type": "code",
   "execution_count": 15,
   "metadata": {},
   "outputs": [
    {
     "data": {
      "image/png": "[encoded data removed]",
      "text/plain": [
       "<Figure size 700x500 with 1 Axes>"
      ]
     },
     "metadata": {
      "needs_background": "light"
     },
     "output_type": "display_data"
    }
   ],
   "source": [
    "plt.bar(x,y)\n",
    "plt.xlabel('Subjects')\n",
    "plt.ylabel('Marks')\n",
    "plt.title('Academic Record')\n",
    "plt.show()"
   ]
  },
  {
   "cell_type": "code",
   "execution_count": 16,
   "metadata": {},
   "outputs": [],
   "source": [
    "import numpy as np\n",
    "import pandas as pd\n",
    "import matplotlib.pyplot as plt\n",
    "%matplotlib inline\n",
    "plt.rcParams.update = ({'figure.figsize':(7,5),'figure.dpi':100})"
   ]
  },
  {
   "cell_type": "code",
   "execution_count": 17,
   "metadata": {},
   "outputs": [],
   "source": [
    "#Creating my data\n",
    "A=['K','L','O','M','H','J']\n",
    "B= np.random.randint(low = 0, high = 100, size = 6)"
   ]
  },
  {
   "cell_type": "code",
   "execution_count": 18,
   "metadata": {},
   "outputs": [
    {
     "data": {
      "image/png": "[encoded data removed]",
      "text/plain": [
       "<Figure size 432x288 with 1 Axes>"
      ]
     },
     "metadata": {
      "needs_background": "light"
     },
     "output_type": "display_data"
    }
   ],
   "source": [
    "plt.bar(x,y)\n",
    "plt.xlabel('Work used for various domains')\n",
    "plt.ylabel('Focused spending time according to time in minutes')\n",
    "plt.title('Work analytics')\n",
    "plt.show()"
   ]
  },
  {
   "cell_type": "code",
   "execution_count": 19,
   "metadata": {},
   "outputs": [
    {
     "data": {
      "text/html": [
       "<div>\n",
       "<style scoped>\n",
       "    .dataframe tbody tr th:only-of-type {\n",
       "        vertical-align: middle;\n",
       "    }\n",
       "\n",
       "    .dataframe tbody tr th {\n",
       "        vertical-align: top;\n",
       "    }\n",
       "\n",
       "    .dataframe thead th {\n",
       "        text-align: right;\n",
       "    }\n",
       "</style>\n",
       "<table border=\"1\" class=\"dataframe\">\n",
       "  <thead>\n",
       "    <tr style=\"text-align: right;\">\n",
       "      <th></th>\n",
       "      <th>Index</th>\n",
       "      <th>Height(Inches)</th>\n",
       "      <th>Weight(Pounds)</th>\n",
       "    </tr>\n",
       "  </thead>\n",
       "  <tbody>\n",
       "    <tr>\n",
       "      <th>0</th>\n",
       "      <td>1</td>\n",
       "      <td>65.78</td>\n",
       "      <td>112.99</td>\n",
       "    </tr>\n",
       "    <tr>\n",
       "      <th>1</th>\n",
       "      <td>2</td>\n",
       "      <td>71.52</td>\n",
       "      <td>136.49</td>\n",
       "    </tr>\n",
       "    <tr>\n",
       "      <th>2</th>\n",
       "      <td>3</td>\n",
       "      <td>69.40</td>\n",
       "      <td>153.03</td>\n",
       "    </tr>\n",
       "    <tr>\n",
       "      <th>3</th>\n",
       "      <td>4</td>\n",
       "      <td>68.22</td>\n",
       "      <td>142.34</td>\n",
       "    </tr>\n",
       "    <tr>\n",
       "      <th>4</th>\n",
       "      <td>5</td>\n",
       "      <td>67.79</td>\n",
       "      <td>144.30</td>\n",
       "    </tr>\n",
       "    <tr>\n",
       "      <th>...</th>\n",
       "      <td>...</td>\n",
       "      <td>...</td>\n",
       "      <td>...</td>\n",
       "    </tr>\n",
       "    <tr>\n",
       "      <th>195</th>\n",
       "      <td>196</td>\n",
       "      <td>65.80</td>\n",
       "      <td>120.84</td>\n",
       "    </tr>\n",
       "    <tr>\n",
       "      <th>196</th>\n",
       "      <td>197</td>\n",
       "      <td>66.11</td>\n",
       "      <td>115.78</td>\n",
       "    </tr>\n",
       "    <tr>\n",
       "      <th>197</th>\n",
       "      <td>198</td>\n",
       "      <td>68.24</td>\n",
       "      <td>128.30</td>\n",
       "    </tr>\n",
       "    <tr>\n",
       "      <th>198</th>\n",
       "      <td>199</td>\n",
       "      <td>68.02</td>\n",
       "      <td>127.47</td>\n",
       "    </tr>\n",
       "    <tr>\n",
       "      <th>199</th>\n",
       "      <td>200</td>\n",
       "      <td>71.39</td>\n",
       "      <td>127.88</td>\n",
       "    </tr>\n",
       "  </tbody>\n",
       "</table>\n",
       "<p>200 rows × 3 columns</p>\n",
       "</div>"
      ],
      "text/plain": [
       "     Index  Height(Inches)  Weight(Pounds)\n",
       "0        1           65.78          112.99\n",
       "1        2           71.52          136.49\n",
       "2        3           69.40          153.03\n",
       "3        4           68.22          142.34\n",
       "4        5           67.79          144.30\n",
       "..     ...             ...             ...\n",
       "195    196           65.80          120.84\n",
       "196    197           66.11          115.78\n",
       "197    198           68.24          128.30\n",
       "198    199           68.02          127.47\n",
       "199    200           71.39          127.88\n",
       "\n",
       "[200 rows x 3 columns]"
      ]
     },
     "execution_count": 19,
     "metadata": {},
     "output_type": "execute_result"
    }
   ],
   "source": [
    "data[1]"
   ]
  },
  {
   "cell_type": "code",
   "execution_count": 45,
   "metadata": {},
   "outputs": [],
   "source": [
    "import pandas as pd"
   ]
  },
  {
   "cell_type": "code",
   "execution_count": 46,
   "metadata": {},
   "outputs": [],
   "source": [
    "data_source = 'http://wiki.stat.ucla.edu/socr/index.php/SOCR_Data_Dinov_020108_HeightsWeights'\n",
    "data = pd.read_html(data_source)"
   ]
  },
  {
   "cell_type": "code",
   "execution_count": 47,
   "metadata": {},
   "outputs": [
    {
     "data": {
      "text/plain": [
       "list"
      ]
     },
     "execution_count": 47,
     "metadata": {},
     "output_type": "execute_result"
    }
   ],
   "source": [
    "type(data)"
   ]
  },
  {
   "cell_type": "code",
   "execution_count": 48,
   "metadata": {},
   "outputs": [
    {
     "data": {
      "text/plain": [
       "3"
      ]
     },
     "execution_count": 48,
     "metadata": {},
     "output_type": "execute_result"
    }
   ],
   "source": [
    "len(data)"
   ]
  },
  {
   "cell_type": "code",
   "execution_count": 49,
   "metadata": {},
   "outputs": [
    {
     "data": {
      "text/html": [
       "<div>\n",
       "<style scoped>\n",
       "    .dataframe tbody tr th:only-of-type {\n",
       "        vertical-align: middle;\n",
       "    }\n",
       "\n",
       "    .dataframe tbody tr th {\n",
       "        vertical-align: top;\n",
       "    }\n",
       "\n",
       "    .dataframe thead th {\n",
       "        text-align: right;\n",
       "    }\n",
       "</style>\n",
       "<table border=\"1\" class=\"dataframe\">\n",
       "  <thead>\n",
       "    <tr style=\"text-align: right;\">\n",
       "      <th></th>\n",
       "      <th>Index</th>\n",
       "      <th>Height(Inches)</th>\n",
       "      <th>Weight(Pounds)</th>\n",
       "    </tr>\n",
       "  </thead>\n",
       "  <tbody>\n",
       "    <tr>\n",
       "      <th>0</th>\n",
       "      <td>1</td>\n",
       "      <td>65.78</td>\n",
       "      <td>112.99</td>\n",
       "    </tr>\n",
       "    <tr>\n",
       "      <th>1</th>\n",
       "      <td>2</td>\n",
       "      <td>71.52</td>\n",
       "      <td>136.49</td>\n",
       "    </tr>\n",
       "    <tr>\n",
       "      <th>2</th>\n",
       "      <td>3</td>\n",
       "      <td>69.40</td>\n",
       "      <td>153.03</td>\n",
       "    </tr>\n",
       "    <tr>\n",
       "      <th>3</th>\n",
       "      <td>4</td>\n",
       "      <td>68.22</td>\n",
       "      <td>142.34</td>\n",
       "    </tr>\n",
       "    <tr>\n",
       "      <th>4</th>\n",
       "      <td>5</td>\n",
       "      <td>67.79</td>\n",
       "      <td>144.30</td>\n",
       "    </tr>\n",
       "    <tr>\n",
       "      <th>...</th>\n",
       "      <td>...</td>\n",
       "      <td>...</td>\n",
       "      <td>...</td>\n",
       "    </tr>\n",
       "    <tr>\n",
       "      <th>195</th>\n",
       "      <td>196</td>\n",
       "      <td>65.80</td>\n",
       "      <td>120.84</td>\n",
       "    </tr>\n",
       "    <tr>\n",
       "      <th>196</th>\n",
       "      <td>197</td>\n",
       "      <td>66.11</td>\n",
       "      <td>115.78</td>\n",
       "    </tr>\n",
       "    <tr>\n",
       "      <th>197</th>\n",
       "      <td>198</td>\n",
       "      <td>68.24</td>\n",
       "      <td>128.30</td>\n",
       "    </tr>\n",
       "    <tr>\n",
       "      <th>198</th>\n",
       "      <td>199</td>\n",
       "      <td>68.02</td>\n",
       "      <td>127.47</td>\n",
       "    </tr>\n",
       "    <tr>\n",
       "      <th>199</th>\n",
       "      <td>200</td>\n",
       "      <td>71.39</td>\n",
       "      <td>127.88</td>\n",
       "    </tr>\n",
       "  </tbody>\n",
       "</table>\n",
       "<p>200 rows × 3 columns</p>\n",
       "</div>"
      ],
      "text/plain": [
       "     Index  Height(Inches)  Weight(Pounds)\n",
       "0        1           65.78          112.99\n",
       "1        2           71.52          136.49\n",
       "2        3           69.40          153.03\n",
       "3        4           68.22          142.34\n",
       "4        5           67.79          144.30\n",
       "..     ...             ...             ...\n",
       "195    196           65.80          120.84\n",
       "196    197           66.11          115.78\n",
       "197    198           68.24          128.30\n",
       "198    199           68.02          127.47\n",
       "199    200           71.39          127.88\n",
       "\n",
       "[200 rows x 3 columns]"
      ]
     },
     "execution_count": 49,
     "metadata": {},
     "output_type": "execute_result"
    }
   ],
   "source": [
    "data[1]"
   ]
  },
  {
   "cell_type": "code",
   "execution_count": null,
   "metadata": {},
   "outputs": [],
   "source": []
  },
  {
   "cell_type": "code",
   "execution_count": 50,
   "metadata": {
    "scrolled": true
   },
   "outputs": [
    {
     "data": {
      "text/html": [
       "<div>\n",
       "<style scoped>\n",
       "    .dataframe tbody tr th:only-of-type {\n",
       "        vertical-align: middle;\n",
       "    }\n",
       "\n",
       "    .dataframe tbody tr th {\n",
       "        vertical-align: top;\n",
       "    }\n",
       "\n",
       "    .dataframe thead th {\n",
       "        text-align: right;\n",
       "    }\n",
       "</style>\n",
       "<table border=\"1\" class=\"dataframe\">\n",
       "  <thead>\n",
       "    <tr style=\"text-align: right;\">\n",
       "      <th></th>\n",
       "      <th>0</th>\n",
       "      <th>1</th>\n",
       "      <th>2</th>\n",
       "      <th>3</th>\n",
       "      <th>4</th>\n",
       "      <th>5</th>\n",
       "      <th>6</th>\n",
       "      <th>7</th>\n",
       "      <th>8</th>\n",
       "      <th>9</th>\n",
       "      <th>10</th>\n",
       "      <th>11</th>\n",
       "    </tr>\n",
       "  </thead>\n",
       "  <tbody>\n",
       "    <tr>\n",
       "      <th>0</th>\n",
       "      <td>(default)</td>\n",
       "      <td>Deutsch</td>\n",
       "      <td>Español</td>\n",
       "      <td>Français</td>\n",
       "      <td>Italiano</td>\n",
       "      <td>Português</td>\n",
       "      <td>日本語</td>\n",
       "      <td>България</td>\n",
       "      <td>الامارات العربية المتحدة</td>\n",
       "      <td>Suomi</td>\n",
       "      <td>इस भाषा में</td>\n",
       "      <td>Norge</td>\n",
       "    </tr>\n",
       "    <tr>\n",
       "      <th>1</th>\n",
       "      <td>한국어</td>\n",
       "      <td>中文</td>\n",
       "      <td>繁体中文</td>\n",
       "      <td>Русский</td>\n",
       "      <td>Nederlands</td>\n",
       "      <td>Ελληνικά</td>\n",
       "      <td>Hrvatska</td>\n",
       "      <td>Česká republika</td>\n",
       "      <td>Danmark</td>\n",
       "      <td>Polska</td>\n",
       "      <td>România</td>\n",
       "      <td>Sverige</td>\n",
       "    </tr>\n",
       "  </tbody>\n",
       "</table>\n",
       "</div>"
      ],
      "text/plain": [
       "          0        1        2         3           4          5         6   \\\n",
       "0  (default)  Deutsch  Español  Français    Italiano  Português       日本語   \n",
       "1        한국어       中文     繁体中文   Русский  Nederlands   Ελληνικά  Hrvatska   \n",
       "\n",
       "                7                         8       9            10       11  \n",
       "0         България  الامارات العربية المتحدة   Suomi  इस भाषा में    Norge  \n",
       "1  Česká republika                   Danmark  Polska      România  Sverige  "
      ]
     },
     "execution_count": 50,
     "metadata": {},
     "output_type": "execute_result"
    }
   ],
   "source": [
    "data[2]"
   ]
  },
  {
   "cell_type": "code",
   "execution_count": 51,
   "metadata": {},
   "outputs": [],
   "source": [
    "#Data Cleaning"
   ]
  },
  {
   "cell_type": "code",
   "execution_count": 52,
   "metadata": {},
   "outputs": [
    {
     "data": {
      "text/plain": [
       "Index             False\n",
       "Height(Inches)    False\n",
       "Weight(Pounds)    False\n",
       "dtype: bool"
      ]
     },
     "execution_count": 52,
     "metadata": {},
     "output_type": "execute_result"
    }
   ],
   "source": [
    "data[1].isnull().any()"
   ]
  },
  {
   "cell_type": "code",
   "execution_count": 53,
   "metadata": {},
   "outputs": [
    {
     "data": {
      "text/plain": [
       "Index             False\n",
       "Height(Inches)    False\n",
       "Weight(Pounds)    False\n",
       "dtype: bool"
      ]
     },
     "execution_count": 53,
     "metadata": {},
     "output_type": "execute_result"
    }
   ],
   "source": [
    "data[1].isna().any()"
   ]
  },
  {
   "cell_type": "code",
   "execution_count": 54,
   "metadata": {},
   "outputs": [
    {
     "data": {
      "text/plain": [
       "0    object\n",
       "dtype: object"
      ]
     },
     "execution_count": 54,
     "metadata": {},
     "output_type": "execute_result"
    }
   ],
   "source": [
    " df.dtypes"
   ]
  },
  {
   "cell_type": "code",
   "execution_count": 55,
   "metadata": {},
   "outputs": [
    {
     "name": "stdout",
     "output_type": "stream",
     "text": [
      "<class 'pandas.core.frame.DataFrame'>\n",
      "RangeIndex: 1 entries, 0 to 0\n",
      "Data columns (total 1 columns):\n",
      " #   Column  Non-Null Count  Dtype \n",
      "---  ------  --------------  ----- \n",
      " 0   0       1 non-null      object\n",
      "dtypes: object(1)\n",
      "memory usage: 136.0+ bytes\n"
     ]
    }
   ],
   "source": [
    "df.info()"
   ]
  },
  {
   "cell_type": "code",
   "execution_count": 56,
   "metadata": {},
   "outputs": [
    {
     "data": {
      "text/html": [
       "<div>\n",
       "<style scoped>\n",
       "    .dataframe tbody tr th:only-of-type {\n",
       "        vertical-align: middle;\n",
       "    }\n",
       "\n",
       "    .dataframe tbody tr th {\n",
       "        vertical-align: top;\n",
       "    }\n",
       "\n",
       "    .dataframe thead th {\n",
       "        text-align: right;\n",
       "    }\n",
       "</style>\n",
       "<table border=\"1\" class=\"dataframe\">\n",
       "  <thead>\n",
       "    <tr style=\"text-align: right;\">\n",
       "      <th></th>\n",
       "      <th>Index</th>\n",
       "      <th>Height(Inches)</th>\n",
       "      <th>Weight(Pounds)</th>\n",
       "    </tr>\n",
       "  </thead>\n",
       "  <tbody>\n",
       "    <tr>\n",
       "      <th>count</th>\n",
       "      <td>200.000000</td>\n",
       "      <td>200.000000</td>\n",
       "      <td>200.000000</td>\n",
       "    </tr>\n",
       "    <tr>\n",
       "      <th>mean</th>\n",
       "      <td>100.500000</td>\n",
       "      <td>67.949800</td>\n",
       "      <td>127.221950</td>\n",
       "    </tr>\n",
       "    <tr>\n",
       "      <th>std</th>\n",
       "      <td>57.879185</td>\n",
       "      <td>1.940363</td>\n",
       "      <td>11.960959</td>\n",
       "    </tr>\n",
       "    <tr>\n",
       "      <th>min</th>\n",
       "      <td>1.000000</td>\n",
       "      <td>63.430000</td>\n",
       "      <td>97.900000</td>\n",
       "    </tr>\n",
       "    <tr>\n",
       "      <th>25%</th>\n",
       "      <td>50.750000</td>\n",
       "      <td>66.522500</td>\n",
       "      <td>119.895000</td>\n",
       "    </tr>\n",
       "    <tr>\n",
       "      <th>50%</th>\n",
       "      <td>100.500000</td>\n",
       "      <td>67.935000</td>\n",
       "      <td>127.875000</td>\n",
       "    </tr>\n",
       "    <tr>\n",
       "      <th>75%</th>\n",
       "      <td>150.250000</td>\n",
       "      <td>69.202500</td>\n",
       "      <td>136.097500</td>\n",
       "    </tr>\n",
       "    <tr>\n",
       "      <th>max</th>\n",
       "      <td>200.000000</td>\n",
       "      <td>73.900000</td>\n",
       "      <td>158.960000</td>\n",
       "    </tr>\n",
       "  </tbody>\n",
       "</table>\n",
       "</div>"
      ],
      "text/plain": [
       "            Index  Height(Inches)  Weight(Pounds)\n",
       "count  200.000000      200.000000      200.000000\n",
       "mean   100.500000       67.949800      127.221950\n",
       "std     57.879185        1.940363       11.960959\n",
       "min      1.000000       63.430000       97.900000\n",
       "25%     50.750000       66.522500      119.895000\n",
       "50%    100.500000       67.935000      127.875000\n",
       "75%    150.250000       69.202500      136.097500\n",
       "max    200.000000       73.900000      158.960000"
      ]
     },
     "execution_count": 56,
     "metadata": {},
     "output_type": "execute_result"
    }
   ],
   "source": [
    "data[1].describe()"
   ]
  },
  {
   "cell_type": "code",
   "execution_count": 57,
   "metadata": {},
   "outputs": [],
   "source": [
    "#print(dir(df))"
   ]
  },
  {
   "cell_type": "code",
   "execution_count": 58,
   "metadata": {},
   "outputs": [],
   "source": [
    "#help(df.describe)"
   ]
  },
  {
   "cell_type": "code",
   "execution_count": 59,
   "metadata": {},
   "outputs": [],
   "source": [
    "#Data Visualization"
   ]
  },
  {
   "cell_type": "code",
   "execution_count": 60,
   "metadata": {},
   "outputs": [
    {
     "data": {
      "text/plain": [
       "<AxesSubplot:>"
      ]
     },
     "execution_count": 60,
     "metadata": {},
     "output_type": "execute_result"
    },
    {
     "data": {
      "image/png": "[encoded data removed]",
      "text/plain": [
       "<Figure size 432x288 with 1 Axes>"
      ]
     },
     "metadata": {
      "needs_background": "light"
     },
     "output_type": "display_data"
    }
   ],
   "source": [
    "data[1].plot()"
   ]
  },
  {
   "cell_type": "code",
   "execution_count": 61,
   "metadata": {},
   "outputs": [
    {
     "data": {
      "text/plain": [
       "0    1\n",
       "1    2\n",
       "2    3\n",
       "3    4\n",
       "4    5\n",
       "Name: Index, dtype: int64"
      ]
     },
     "execution_count": 61,
     "metadata": {},
     "output_type": "execute_result"
    }
   ],
   "source": [
    "data[1].Index.head()"
   ]
  },
  {
   "cell_type": "code",
   "execution_count": 62,
   "metadata": {},
   "outputs": [
    {
     "data": {
      "text/html": [
       "<div>\n",
       "<style scoped>\n",
       "    .dataframe tbody tr th:only-of-type {\n",
       "        vertical-align: middle;\n",
       "    }\n",
       "\n",
       "    .dataframe tbody tr th {\n",
       "        vertical-align: top;\n",
       "    }\n",
       "\n",
       "    .dataframe thead th {\n",
       "        text-align: right;\n",
       "    }\n",
       "</style>\n",
       "<table border=\"1\" class=\"dataframe\">\n",
       "  <thead>\n",
       "    <tr style=\"text-align: right;\">\n",
       "      <th></th>\n",
       "      <th>Height(Inches)</th>\n",
       "      <th>Weight(Pounds)</th>\n",
       "    </tr>\n",
       "  </thead>\n",
       "  <tbody>\n",
       "    <tr>\n",
       "      <th>0</th>\n",
       "      <td>65.78</td>\n",
       "      <td>112.99</td>\n",
       "    </tr>\n",
       "    <tr>\n",
       "      <th>1</th>\n",
       "      <td>71.52</td>\n",
       "      <td>136.49</td>\n",
       "    </tr>\n",
       "    <tr>\n",
       "      <th>2</th>\n",
       "      <td>69.40</td>\n",
       "      <td>153.03</td>\n",
       "    </tr>\n",
       "    <tr>\n",
       "      <th>3</th>\n",
       "      <td>68.22</td>\n",
       "      <td>142.34</td>\n",
       "    </tr>\n",
       "    <tr>\n",
       "      <th>4</th>\n",
       "      <td>67.79</td>\n",
       "      <td>144.30</td>\n",
       "    </tr>\n",
       "  </tbody>\n",
       "</table>\n",
       "</div>"
      ],
      "text/plain": [
       "   Height(Inches)  Weight(Pounds)\n",
       "0           65.78          112.99\n",
       "1           71.52          136.49\n",
       "2           69.40          153.03\n",
       "3           68.22          142.34\n",
       "4           67.79          144.30"
      ]
     },
     "execution_count": 62,
     "metadata": {},
     "output_type": "execute_result"
    }
   ],
   "source": [
    "data[1][['Height(Inches)', 'Weight(Pounds)']].head()"
   ]
  },
  {
   "cell_type": "code",
   "execution_count": 63,
   "metadata": {},
   "outputs": [
    {
     "data": {
      "text/plain": [
       "<AxesSubplot:>"
      ]
     },
     "execution_count": 63,
     "metadata": {},
     "output_type": "execute_result"
    },
    {
     "data": {
      "image/png": "[encoded data removed]",
      "text/plain": [
       "<Figure size 432x288 with 1 Axes>"
      ]
     },
     "metadata": {
      "needs_background": "light"
     },
     "output_type": "display_data"
    }
   ],
   "source": [
    "data[1][['Height(Inches)', 'Weight(Pounds)']].plot()"
   ]
  },
  {
   "cell_type": "code",
   "execution_count": 64,
   "metadata": {},
   "outputs": [
    {
     "data": {
      "text/plain": [
       "<AxesSubplot:xlabel='Weight(Pounds)', ylabel='Height(Inches)'>"
      ]
     },
     "execution_count": 64,
     "metadata": {},
     "output_type": "execute_result"
    },
    {
     "data": {
      "image/png": "[encoded data removed]",
      "text/plain": [
       "<Figure size 432x288 with 1 Axes>"
      ]
     },
     "metadata": {
      "needs_background": "light"
     },
     "output_type": "display_data"
    }
   ],
   "source": [
    "data[1].plot(y = 'Height(Inches)', x= 'Weight(Pounds)', kind = 'scatter')"
   ]
  },
  {
   "cell_type": "code",
   "execution_count": 65,
   "metadata": {},
   "outputs": [
    {
     "data": {
      "text/plain": [
       "<AxesSubplot:xlabel='Weight(Pounds)'>"
      ]
     },
     "execution_count": 65,
     "metadata": {},
     "output_type": "execute_result"
    },
    {
     "data": {
      "image/png": "[encoded data removed]",
      "text/plain": [
       "<Figure size 432x288 with 1 Axes>"
      ]
     },
     "metadata": {
      "needs_background": "light"
     },
     "output_type": "display_data"
    }
   ],
   "source": [
    "data[1].plot(y = 'Height(Inches)', x = 'Weight(Pounds)', kind = 'bar')"
   ]
  },
  {
   "cell_type": "code",
   "execution_count": 66,
   "metadata": {},
   "outputs": [],
   "source": [
    "#Analysing the Correlation"
   ]
  },
  {
   "cell_type": "code",
   "execution_count": 67,
   "metadata": {},
   "outputs": [
    {
     "data": {
      "text/html": [
       "<div>\n",
       "<style scoped>\n",
       "    .dataframe tbody tr th:only-of-type {\n",
       "        vertical-align: middle;\n",
       "    }\n",
       "\n",
       "    .dataframe tbody tr th {\n",
       "        vertical-align: top;\n",
       "    }\n",
       "\n",
       "    .dataframe thead th {\n",
       "        text-align: right;\n",
       "    }\n",
       "</style>\n",
       "<table border=\"1\" class=\"dataframe\">\n",
       "  <thead>\n",
       "    <tr style=\"text-align: right;\">\n",
       "      <th></th>\n",
       "      <th>Index</th>\n",
       "      <th>Height(Inches)</th>\n",
       "      <th>Weight(Pounds)</th>\n",
       "    </tr>\n",
       "  </thead>\n",
       "  <tbody>\n",
       "    <tr>\n",
       "      <th>Index</th>\n",
       "      <td>1.000000</td>\n",
       "      <td>-0.094260</td>\n",
       "      <td>-0.128882</td>\n",
       "    </tr>\n",
       "    <tr>\n",
       "      <th>Height(Inches)</th>\n",
       "      <td>-0.094260</td>\n",
       "      <td>1.000000</td>\n",
       "      <td>0.556865</td>\n",
       "    </tr>\n",
       "    <tr>\n",
       "      <th>Weight(Pounds)</th>\n",
       "      <td>-0.128882</td>\n",
       "      <td>0.556865</td>\n",
       "      <td>1.000000</td>\n",
       "    </tr>\n",
       "  </tbody>\n",
       "</table>\n",
       "</div>"
      ],
      "text/plain": [
       "                   Index  Height(Inches)  Weight(Pounds)\n",
       "Index           1.000000       -0.094260       -0.128882\n",
       "Height(Inches) -0.094260        1.000000        0.556865\n",
       "Weight(Pounds) -0.128882        0.556865        1.000000"
      ]
     },
     "execution_count": 67,
     "metadata": {},
     "output_type": "execute_result"
    }
   ],
   "source": [
    "data[1].corr()"
   ]
  },
  {
   "cell_type": "code",
   "execution_count": 74,
   "metadata": {},
   "outputs": [],
   "source": [
    "import pandas as pd"
   ]
  },
  {
   "cell_type": "code",
   "execution_count": 75,
   "metadata": {},
   "outputs": [],
   "source": [
    "data_source = 'http://wiki.stat.ucla.edu/socr/index.php/SOCR_Data_Dinov_021808_ConsumerPriceIndex'\n",
    "data=pd.read_html(data_source)"
   ]
  },
  {
   "cell_type": "code",
   "execution_count": 77,
   "metadata": {},
   "outputs": [
    {
     "data": {
      "text/plain": [
       "list"
      ]
     },
     "execution_count": 77,
     "metadata": {},
     "output_type": "execute_result"
    }
   ],
   "source": [
    "type(data)"
   ]
  },
  {
   "cell_type": "code",
   "execution_count": 76,
   "metadata": {},
   "outputs": [
    {
     "data": {
      "text/plain": [
       "4"
      ]
     },
     "execution_count": 76,
     "metadata": {},
     "output_type": "execute_result"
    }
   ],
   "source": [
    "len(data)"
   ]
  },
  {
   "cell_type": "code",
   "execution_count": 78,
   "metadata": {},
   "outputs": [
    {
     "data": {
      "text/html": [
       "<div>\n",
       "<style scoped>\n",
       "    .dataframe tbody tr th:only-of-type {\n",
       "        vertical-align: middle;\n",
       "    }\n",
       "\n",
       "    .dataframe tbody tr th {\n",
       "        vertical-align: top;\n",
       "    }\n",
       "\n",
       "    .dataframe thead th {\n",
       "        text-align: right;\n",
       "    }\n",
       "</style>\n",
       "<table border=\"1\" class=\"dataframe\">\n",
       "  <thead>\n",
       "    <tr style=\"text-align: right;\">\n",
       "      <th></th>\n",
       "      <th>Year</th>\n",
       "      <th>Electricity</th>\n",
       "      <th>Fuel_Oil</th>\n",
       "      <th>Bananas</th>\n",
       "      <th>Tomatoes</th>\n",
       "      <th>Orange_Juice</th>\n",
       "      <th>Beef</th>\n",
       "      <th>Gasoline</th>\n",
       "    </tr>\n",
       "  </thead>\n",
       "  <tbody>\n",
       "    <tr>\n",
       "      <th>0</th>\n",
       "      <td>1981</td>\n",
       "      <td>31.552</td>\n",
       "      <td>1.150</td>\n",
       "      <td>0.343</td>\n",
       "      <td>0.792</td>\n",
       "      <td>1.141</td>\n",
       "      <td>1.856</td>\n",
       "      <td>1.269</td>\n",
       "    </tr>\n",
       "    <tr>\n",
       "      <th>1</th>\n",
       "      <td>1982</td>\n",
       "      <td>36.006</td>\n",
       "      <td>1.254</td>\n",
       "      <td>0.364</td>\n",
       "      <td>0.763</td>\n",
       "      <td>1.465</td>\n",
       "      <td>1.794</td>\n",
       "      <td>1.341</td>\n",
       "    </tr>\n",
       "    <tr>\n",
       "      <th>2</th>\n",
       "      <td>1983</td>\n",
       "      <td>37.184</td>\n",
       "      <td>1.194</td>\n",
       "      <td>0.332</td>\n",
       "      <td>0.726</td>\n",
       "      <td>1.418</td>\n",
       "      <td>1.756</td>\n",
       "      <td>1.214</td>\n",
       "    </tr>\n",
       "    <tr>\n",
       "      <th>3</th>\n",
       "      <td>1984</td>\n",
       "      <td>38.600</td>\n",
       "      <td>1.122</td>\n",
       "      <td>0.344</td>\n",
       "      <td>0.854</td>\n",
       "      <td>1.408</td>\n",
       "      <td>1.721</td>\n",
       "      <td>1.200</td>\n",
       "    </tr>\n",
       "    <tr>\n",
       "      <th>4</th>\n",
       "      <td>1985</td>\n",
       "      <td>38.975</td>\n",
       "      <td>1.078</td>\n",
       "      <td>0.350</td>\n",
       "      <td>0.697</td>\n",
       "      <td>1.685</td>\n",
       "      <td>1.711</td>\n",
       "      <td>1.145</td>\n",
       "    </tr>\n",
       "    <tr>\n",
       "      <th>5</th>\n",
       "      <td>1986</td>\n",
       "      <td>40.223</td>\n",
       "      <td>1.126</td>\n",
       "      <td>0.337</td>\n",
       "      <td>1.104</td>\n",
       "      <td>1.756</td>\n",
       "      <td>1.662</td>\n",
       "      <td>1.190</td>\n",
       "    </tr>\n",
       "    <tr>\n",
       "      <th>6</th>\n",
       "      <td>1987</td>\n",
       "      <td>40.022</td>\n",
       "      <td>0.817</td>\n",
       "      <td>0.374</td>\n",
       "      <td>0.871</td>\n",
       "      <td>1.512</td>\n",
       "      <td>1.694</td>\n",
       "      <td>0.868</td>\n",
       "    </tr>\n",
       "    <tr>\n",
       "      <th>7</th>\n",
       "      <td>1988</td>\n",
       "      <td>40.195</td>\n",
       "      <td>0.890</td>\n",
       "      <td>0.394</td>\n",
       "      <td>0.797</td>\n",
       "      <td>1.638</td>\n",
       "      <td>1.736</td>\n",
       "      <td>0.947</td>\n",
       "    </tr>\n",
       "    <tr>\n",
       "      <th>8</th>\n",
       "      <td>1989</td>\n",
       "      <td>40.828</td>\n",
       "      <td>0.883</td>\n",
       "      <td>0.429</td>\n",
       "      <td>1.735</td>\n",
       "      <td>1.868</td>\n",
       "      <td>1.806</td>\n",
       "      <td>0.944</td>\n",
       "    </tr>\n",
       "    <tr>\n",
       "      <th>9</th>\n",
       "      <td>1990</td>\n",
       "      <td>41.663</td>\n",
       "      <td>1.259</td>\n",
       "      <td>0.438</td>\n",
       "      <td>0.912</td>\n",
       "      <td>1.817</td>\n",
       "      <td>1.907</td>\n",
       "      <td>1.090</td>\n",
       "    </tr>\n",
       "    <tr>\n",
       "      <th>10</th>\n",
       "      <td>1991</td>\n",
       "      <td>43.226</td>\n",
       "      <td>1.235</td>\n",
       "      <td>0.428</td>\n",
       "      <td>0.936</td>\n",
       "      <td>2.005</td>\n",
       "      <td>1.996</td>\n",
       "      <td>1.304</td>\n",
       "    </tr>\n",
       "    <tr>\n",
       "      <th>11</th>\n",
       "      <td>1992</td>\n",
       "      <td>44.501</td>\n",
       "      <td>0.985</td>\n",
       "      <td>0.426</td>\n",
       "      <td>1.141</td>\n",
       "      <td>1.879</td>\n",
       "      <td>1.926</td>\n",
       "      <td>1.135</td>\n",
       "    </tr>\n",
       "    <tr>\n",
       "      <th>12</th>\n",
       "      <td>1993</td>\n",
       "      <td>46.959</td>\n",
       "      <td>0.969</td>\n",
       "      <td>0.440</td>\n",
       "      <td>1.604</td>\n",
       "      <td>1.677</td>\n",
       "      <td>1.970</td>\n",
       "      <td>1.182</td>\n",
       "    </tr>\n",
       "    <tr>\n",
       "      <th>13</th>\n",
       "      <td>1994</td>\n",
       "      <td>48.200</td>\n",
       "      <td>0.919</td>\n",
       "      <td>0.503</td>\n",
       "      <td>1.323</td>\n",
       "      <td>1.674</td>\n",
       "      <td>1.892</td>\n",
       "      <td>1.109</td>\n",
       "    </tr>\n",
       "    <tr>\n",
       "      <th>14</th>\n",
       "      <td>1995</td>\n",
       "      <td>48.874</td>\n",
       "      <td>0.913</td>\n",
       "      <td>0.463</td>\n",
       "      <td>1.103</td>\n",
       "      <td>1.583</td>\n",
       "      <td>1.847</td>\n",
       "      <td>1.190</td>\n",
       "    </tr>\n",
       "    <tr>\n",
       "      <th>15</th>\n",
       "      <td>1996</td>\n",
       "      <td>48.538</td>\n",
       "      <td>1.007</td>\n",
       "      <td>0.497</td>\n",
       "      <td>1.213</td>\n",
       "      <td>1.577</td>\n",
       "      <td>1.799</td>\n",
       "      <td>1.186</td>\n",
       "    </tr>\n",
       "    <tr>\n",
       "      <th>16</th>\n",
       "      <td>1997</td>\n",
       "      <td>49.245</td>\n",
       "      <td>1.136</td>\n",
       "      <td>0.473</td>\n",
       "      <td>1.452</td>\n",
       "      <td>1.737</td>\n",
       "      <td>1.850</td>\n",
       "      <td>1.318</td>\n",
       "    </tr>\n",
       "    <tr>\n",
       "      <th>17</th>\n",
       "      <td>1998</td>\n",
       "      <td>46.401</td>\n",
       "      <td>0.966</td>\n",
       "      <td>0.489</td>\n",
       "      <td>1.904</td>\n",
       "      <td>1.601</td>\n",
       "      <td>1.818</td>\n",
       "      <td>1.186</td>\n",
       "    </tr>\n",
       "    <tr>\n",
       "      <th>18</th>\n",
       "      <td>1999</td>\n",
       "      <td>45.061</td>\n",
       "      <td>0.834</td>\n",
       "      <td>0.490</td>\n",
       "      <td>1.443</td>\n",
       "      <td>1.753</td>\n",
       "      <td>1.834</td>\n",
       "      <td>1.031</td>\n",
       "    </tr>\n",
       "    <tr>\n",
       "      <th>19</th>\n",
       "      <td>2000</td>\n",
       "      <td>45.207</td>\n",
       "      <td>1.189</td>\n",
       "      <td>0.500</td>\n",
       "      <td>1.414</td>\n",
       "      <td>1.823</td>\n",
       "      <td>1.903</td>\n",
       "      <td>1.356</td>\n",
       "    </tr>\n",
       "    <tr>\n",
       "      <th>20</th>\n",
       "      <td>2001</td>\n",
       "      <td>47.472</td>\n",
       "      <td>1.509</td>\n",
       "      <td>0.509</td>\n",
       "      <td>1.451</td>\n",
       "      <td>1.863</td>\n",
       "      <td>2.037</td>\n",
       "      <td>1.525</td>\n",
       "    </tr>\n",
       "    <tr>\n",
       "      <th>21</th>\n",
       "      <td>2002</td>\n",
       "      <td>47.868</td>\n",
       "      <td>1.123</td>\n",
       "      <td>0.526</td>\n",
       "      <td>1.711</td>\n",
       "      <td>1.876</td>\n",
       "      <td>2.152</td>\n",
       "      <td>1.209</td>\n",
       "    </tr>\n",
       "    <tr>\n",
       "      <th>22</th>\n",
       "      <td>2003</td>\n",
       "      <td>47.663</td>\n",
       "      <td>1.396</td>\n",
       "      <td>0.512</td>\n",
       "      <td>1.472</td>\n",
       "      <td>1.848</td>\n",
       "      <td>2.131</td>\n",
       "      <td>1.557</td>\n",
       "    </tr>\n",
       "    <tr>\n",
       "      <th>23</th>\n",
       "      <td>2004</td>\n",
       "      <td>49.159</td>\n",
       "      <td>1.508</td>\n",
       "      <td>0.485</td>\n",
       "      <td>1.660</td>\n",
       "      <td>1.957</td>\n",
       "      <td>2.585</td>\n",
       "      <td>1.635</td>\n",
       "    </tr>\n",
       "    <tr>\n",
       "      <th>24</th>\n",
       "      <td>2005</td>\n",
       "      <td>50.847</td>\n",
       "      <td>1.859</td>\n",
       "      <td>0.490</td>\n",
       "      <td>2.162</td>\n",
       "      <td>1.872</td>\n",
       "      <td>2.478</td>\n",
       "      <td>1.866</td>\n",
       "    </tr>\n",
       "    <tr>\n",
       "      <th>25</th>\n",
       "      <td>2006</td>\n",
       "      <td>57.223</td>\n",
       "      <td>2.418</td>\n",
       "      <td>0.505</td>\n",
       "      <td>1.621</td>\n",
       "      <td>1.853</td>\n",
       "      <td>2.607</td>\n",
       "      <td>2.359</td>\n",
       "    </tr>\n",
       "  </tbody>\n",
       "</table>\n",
       "</div>"
      ],
      "text/plain": [
       "    Year  Electricity  Fuel_Oil  Bananas  Tomatoes  Orange_Juice   Beef  \\\n",
       "0   1981       31.552     1.150    0.343     0.792         1.141  1.856   \n",
       "1   1982       36.006     1.254    0.364     0.763         1.465  1.794   \n",
       "2   1983       37.184     1.194    0.332     0.726         1.418  1.756   \n",
       "3   1984       38.600     1.122    0.344     0.854         1.408  1.721   \n",
       "4   1985       38.975     1.078    0.350     0.697         1.685  1.711   \n",
       "5   1986       40.223     1.126    0.337     1.104         1.756  1.662   \n",
       "6   1987       40.022     0.817    0.374     0.871         1.512  1.694   \n",
       "7   1988       40.195     0.890    0.394     0.797         1.638  1.736   \n",
       "8   1989       40.828     0.883    0.429     1.735         1.868  1.806   \n",
       "9   1990       41.663     1.259    0.438     0.912         1.817  1.907   \n",
       "10  1991       43.226     1.235    0.428     0.936         2.005  1.996   \n",
       "11  1992       44.501     0.985    0.426     1.141         1.879  1.926   \n",
       "12  1993       46.959     0.969    0.440     1.604         1.677  1.970   \n",
       "13  1994       48.200     0.919    0.503     1.323         1.674  1.892   \n",
       "14  1995       48.874     0.913    0.463     1.103         1.583  1.847   \n",
       "15  1996       48.538     1.007    0.497     1.213         1.577  1.799   \n",
       "16  1997       49.245     1.136    0.473     1.452         1.737  1.850   \n",
       "17  1998       46.401     0.966    0.489     1.904         1.601  1.818   \n",
       "18  1999       45.061     0.834    0.490     1.443         1.753  1.834   \n",
       "19  2000       45.207     1.189    0.500     1.414         1.823  1.903   \n",
       "20  2001       47.472     1.509    0.509     1.451         1.863  2.037   \n",
       "21  2002       47.868     1.123    0.526     1.711         1.876  2.152   \n",
       "22  2003       47.663     1.396    0.512     1.472         1.848  2.131   \n",
       "23  2004       49.159     1.508    0.485     1.660         1.957  2.585   \n",
       "24  2005       50.847     1.859    0.490     2.162         1.872  2.478   \n",
       "25  2006       57.223     2.418    0.505     1.621         1.853  2.607   \n",
       "\n",
       "    Gasoline  \n",
       "0      1.269  \n",
       "1      1.341  \n",
       "2      1.214  \n",
       "3      1.200  \n",
       "4      1.145  \n",
       "5      1.190  \n",
       "6      0.868  \n",
       "7      0.947  \n",
       "8      0.944  \n",
       "9      1.090  \n",
       "10     1.304  \n",
       "11     1.135  \n",
       "12     1.182  \n",
       "13     1.109  \n",
       "14     1.190  \n",
       "15     1.186  \n",
       "16     1.318  \n",
       "17     1.186  \n",
       "18     1.031  \n",
       "19     1.356  \n",
       "20     1.525  \n",
       "21     1.209  \n",
       "22     1.557  \n",
       "23     1.635  \n",
       "24     1.866  \n",
       "25     2.359  "
      ]
     },
     "execution_count": 78,
     "metadata": {},
     "output_type": "execute_result"
    }
   ],
   "source": [
    "data[1]"
   ]
  },
  {
   "cell_type": "code",
   "execution_count": 79,
   "metadata": {},
   "outputs": [
    {
     "data": {
      "text/html": [
       "<div>\n",
       "<style scoped>\n",
       "    .dataframe tbody tr th:only-of-type {\n",
       "        vertical-align: middle;\n",
       "    }\n",
       "\n",
       "    .dataframe tbody tr th {\n",
       "        vertical-align: top;\n",
       "    }\n",
       "\n",
       "    .dataframe thead th {\n",
       "        text-align: right;\n",
       "    }\n",
       "</style>\n",
       "<table border=\"1\" class=\"dataframe\">\n",
       "  <thead>\n",
       "    <tr style=\"text-align: right;\">\n",
       "      <th></th>\n",
       "      <th>Year</th>\n",
       "      <th>Jan</th>\n",
       "      <th>Feb</th>\n",
       "      <th>Mar</th>\n",
       "      <th>Apr</th>\n",
       "      <th>May</th>\n",
       "      <th>Jun</th>\n",
       "      <th>Jul</th>\n",
       "      <th>Aug</th>\n",
       "      <th>Sep</th>\n",
       "      <th>Oct</th>\n",
       "      <th>Nov</th>\n",
       "      <th>Dec</th>\n",
       "      <th>CPI_Item</th>\n",
       "    </tr>\n",
       "  </thead>\n",
       "  <tbody>\n",
       "    <tr>\n",
       "      <th>0</th>\n",
       "      <td>1980</td>\n",
       "      <td>26.698</td>\n",
       "      <td>27.701</td>\n",
       "      <td>28.150</td>\n",
       "      <td>28.433</td>\n",
       "      <td>28.960</td>\n",
       "      <td>30.931</td>\n",
       "      <td>31.513</td>\n",
       "      <td>31.569</td>\n",
       "      <td>31.755</td>\n",
       "      <td>30.890</td>\n",
       "      <td>30.381</td>\n",
       "      <td>30.967</td>\n",
       "      <td>Electricity_500_KWH</td>\n",
       "    </tr>\n",
       "    <tr>\n",
       "      <th>1</th>\n",
       "      <td>1981</td>\n",
       "      <td>31.552</td>\n",
       "      <td>32.097</td>\n",
       "      <td>32.473</td>\n",
       "      <td>32.848</td>\n",
       "      <td>33.100</td>\n",
       "      <td>34.962</td>\n",
       "      <td>35.744</td>\n",
       "      <td>36.496</td>\n",
       "      <td>36.273</td>\n",
       "      <td>34.872</td>\n",
       "      <td>34.919</td>\n",
       "      <td>34.960</td>\n",
       "      <td>Electricity_500_KWH</td>\n",
       "    </tr>\n",
       "    <tr>\n",
       "      <th>2</th>\n",
       "      <td>1982</td>\n",
       "      <td>36.006</td>\n",
       "      <td>36.086</td>\n",
       "      <td>36.741</td>\n",
       "      <td>36.799</td>\n",
       "      <td>36.438</td>\n",
       "      <td>38.047</td>\n",
       "      <td>38.403</td>\n",
       "      <td>38.471</td>\n",
       "      <td>38.265</td>\n",
       "      <td>37.388</td>\n",
       "      <td>36.655</td>\n",
       "      <td>37.074</td>\n",
       "      <td>Electricity_500_KWH</td>\n",
       "    </tr>\n",
       "    <tr>\n",
       "      <th>3</th>\n",
       "      <td>1983</td>\n",
       "      <td>37.184</td>\n",
       "      <td>37.306</td>\n",
       "      <td>37.393</td>\n",
       "      <td>37.117</td>\n",
       "      <td>37.424</td>\n",
       "      <td>39.216</td>\n",
       "      <td>39.507</td>\n",
       "      <td>39.592</td>\n",
       "      <td>39.578</td>\n",
       "      <td>38.781</td>\n",
       "      <td>38.325</td>\n",
       "      <td>38.188</td>\n",
       "      <td>Electricity_500_KWH</td>\n",
       "    </tr>\n",
       "    <tr>\n",
       "      <th>4</th>\n",
       "      <td>1984</td>\n",
       "      <td>38.600</td>\n",
       "      <td>38.832</td>\n",
       "      <td>39.066</td>\n",
       "      <td>39.487</td>\n",
       "      <td>39.539</td>\n",
       "      <td>41.635</td>\n",
       "      <td>42.406</td>\n",
       "      <td>43.350</td>\n",
       "      <td>40.801</td>\n",
       "      <td>39.441</td>\n",
       "      <td>38.935</td>\n",
       "      <td>38.626</td>\n",
       "      <td>Electricity_500_KWH</td>\n",
       "    </tr>\n",
       "    <tr>\n",
       "      <th>...</th>\n",
       "      <td>...</td>\n",
       "      <td>...</td>\n",
       "      <td>...</td>\n",
       "      <td>...</td>\n",
       "      <td>...</td>\n",
       "      <td>...</td>\n",
       "      <td>...</td>\n",
       "      <td>...</td>\n",
       "      <td>...</td>\n",
       "      <td>...</td>\n",
       "      <td>...</td>\n",
       "      <td>...</td>\n",
       "      <td>...</td>\n",
       "      <td>...</td>\n",
       "    </tr>\n",
       "    <tr>\n",
       "      <th>321</th>\n",
       "      <td>2003</td>\n",
       "      <td>1.042</td>\n",
       "      <td>1.048</td>\n",
       "      <td>1.042</td>\n",
       "      <td>1.047</td>\n",
       "      <td>1.001</td>\n",
       "      <td>0.961</td>\n",
       "      <td>1.002</td>\n",
       "      <td>0.996</td>\n",
       "      <td>0.994</td>\n",
       "      <td>0.969</td>\n",
       "      <td>0.953</td>\n",
       "      <td>0.954</td>\n",
       "      <td>Bread_1_lb_white</td>\n",
       "    </tr>\n",
       "    <tr>\n",
       "      <th>322</th>\n",
       "      <td>2004</td>\n",
       "      <td>0.946</td>\n",
       "      <td>0.943</td>\n",
       "      <td>0.947</td>\n",
       "      <td>0.974</td>\n",
       "      <td>0.960</td>\n",
       "      <td>0.979</td>\n",
       "      <td>0.985</td>\n",
       "      <td>0.996</td>\n",
       "      <td>0.985</td>\n",
       "      <td>0.972</td>\n",
       "      <td>0.976</td>\n",
       "      <td>0.970</td>\n",
       "      <td>Bread_1_lb_white</td>\n",
       "    </tr>\n",
       "    <tr>\n",
       "      <th>323</th>\n",
       "      <td>2005</td>\n",
       "      <td>0.997</td>\n",
       "      <td>0.982</td>\n",
       "      <td>1.002</td>\n",
       "      <td>1.004</td>\n",
       "      <td>1.086</td>\n",
       "      <td>1.090</td>\n",
       "      <td>1.067</td>\n",
       "      <td>1.060</td>\n",
       "      <td>1.052</td>\n",
       "      <td>1.043</td>\n",
       "      <td>1.055</td>\n",
       "      <td>1.046</td>\n",
       "      <td>Bread_1_lb_white</td>\n",
       "    </tr>\n",
       "    <tr>\n",
       "      <th>324</th>\n",
       "      <td>2006</td>\n",
       "      <td>1.046</td>\n",
       "      <td>1.029</td>\n",
       "      <td>1.040</td>\n",
       "      <td>1.072</td>\n",
       "      <td>1.086</td>\n",
       "      <td>1.074</td>\n",
       "      <td>1.071</td>\n",
       "      <td>1.088</td>\n",
       "      <td>1.083</td>\n",
       "      <td>1.097</td>\n",
       "      <td>1.143</td>\n",
       "      <td>1.137</td>\n",
       "      <td>Bread_1_lb_white</td>\n",
       "    </tr>\n",
       "    <tr>\n",
       "      <th>325</th>\n",
       "      <td>2007</td>\n",
       "      <td>1.153</td>\n",
       "      <td>1.168</td>\n",
       "      <td>1.161</td>\n",
       "      <td>1.201</td>\n",
       "      <td>1.192</td>\n",
       "      <td>1.193</td>\n",
       "      <td>1.209</td>\n",
       "      <td>1.210</td>\n",
       "      <td>1.212</td>\n",
       "      <td>1.274</td>\n",
       "      <td>1.235</td>\n",
       "      <td>1.280</td>\n",
       "      <td>Bread_1_lb_white</td>\n",
       "    </tr>\n",
       "  </tbody>\n",
       "</table>\n",
       "<p>326 rows × 14 columns</p>\n",
       "</div>"
      ],
      "text/plain": [
       "     Year     Jan     Feb     Mar     Apr     May     Jun     Jul     Aug  \\\n",
       "0    1980  26.698  27.701  28.150  28.433  28.960  30.931  31.513  31.569   \n",
       "1    1981  31.552  32.097  32.473  32.848  33.100  34.962  35.744  36.496   \n",
       "2    1982  36.006  36.086  36.741  36.799  36.438  38.047  38.403  38.471   \n",
       "3    1983  37.184  37.306  37.393  37.117  37.424  39.216  39.507  39.592   \n",
       "4    1984  38.600  38.832  39.066  39.487  39.539  41.635  42.406  43.350   \n",
       "..    ...     ...     ...     ...     ...     ...     ...     ...     ...   \n",
       "321  2003   1.042   1.048   1.042   1.047   1.001   0.961   1.002   0.996   \n",
       "322  2004   0.946   0.943   0.947   0.974   0.960   0.979   0.985   0.996   \n",
       "323  2005   0.997   0.982   1.002   1.004   1.086   1.090   1.067   1.060   \n",
       "324  2006   1.046   1.029   1.040   1.072   1.086   1.074   1.071   1.088   \n",
       "325  2007   1.153   1.168   1.161   1.201   1.192   1.193   1.209   1.210   \n",
       "\n",
       "        Sep     Oct     Nov     Dec             CPI_Item  \n",
       "0    31.755  30.890  30.381  30.967  Electricity_500_KWH  \n",
       "1    36.273  34.872  34.919  34.960  Electricity_500_KWH  \n",
       "2    38.265  37.388  36.655  37.074  Electricity_500_KWH  \n",
       "3    39.578  38.781  38.325  38.188  Electricity_500_KWH  \n",
       "4    40.801  39.441  38.935  38.626  Electricity_500_KWH  \n",
       "..      ...     ...     ...     ...                  ...  \n",
       "321   0.994   0.969   0.953   0.954     Bread_1_lb_white  \n",
       "322   0.985   0.972   0.976   0.970     Bread_1_lb_white  \n",
       "323   1.052   1.043   1.055   1.046     Bread_1_lb_white  \n",
       "324   1.083   1.097   1.143   1.137     Bread_1_lb_white  \n",
       "325   1.212   1.274   1.235   1.280     Bread_1_lb_white  \n",
       "\n",
       "[326 rows x 14 columns]"
      ]
     },
     "execution_count": 79,
     "metadata": {},
     "output_type": "execute_result"
    }
   ],
   "source": [
    "data[2]"
   ]
  },
  {
   "cell_type": "code",
   "execution_count": 80,
   "metadata": {},
   "outputs": [
    {
     "data": {
      "text/html": [
       "<div>\n",
       "<style scoped>\n",
       "    .dataframe tbody tr th:only-of-type {\n",
       "        vertical-align: middle;\n",
       "    }\n",
       "\n",
       "    .dataframe tbody tr th {\n",
       "        vertical-align: top;\n",
       "    }\n",
       "\n",
       "    .dataframe thead th {\n",
       "        text-align: right;\n",
       "    }\n",
       "</style>\n",
       "<table border=\"1\" class=\"dataframe\">\n",
       "  <thead>\n",
       "    <tr style=\"text-align: right;\">\n",
       "      <th></th>\n",
       "      <th>Year</th>\n",
       "      <th>Electricity</th>\n",
       "      <th>Fuel_Oil</th>\n",
       "      <th>Bananas</th>\n",
       "      <th>Tomatoes</th>\n",
       "      <th>Orange_Juice</th>\n",
       "      <th>Beef</th>\n",
       "      <th>Gasoline</th>\n",
       "    </tr>\n",
       "  </thead>\n",
       "  <tbody>\n",
       "    <tr>\n",
       "      <th>0</th>\n",
       "      <td>1981</td>\n",
       "      <td>31.552</td>\n",
       "      <td>1.150</td>\n",
       "      <td>0.343</td>\n",
       "      <td>0.792</td>\n",
       "      <td>1.141</td>\n",
       "      <td>1.856</td>\n",
       "      <td>1.269</td>\n",
       "    </tr>\n",
       "    <tr>\n",
       "      <th>1</th>\n",
       "      <td>1982</td>\n",
       "      <td>36.006</td>\n",
       "      <td>1.254</td>\n",
       "      <td>0.364</td>\n",
       "      <td>0.763</td>\n",
       "      <td>1.465</td>\n",
       "      <td>1.794</td>\n",
       "      <td>1.341</td>\n",
       "    </tr>\n",
       "    <tr>\n",
       "      <th>2</th>\n",
       "      <td>1983</td>\n",
       "      <td>37.184</td>\n",
       "      <td>1.194</td>\n",
       "      <td>0.332</td>\n",
       "      <td>0.726</td>\n",
       "      <td>1.418</td>\n",
       "      <td>1.756</td>\n",
       "      <td>1.214</td>\n",
       "    </tr>\n",
       "    <tr>\n",
       "      <th>3</th>\n",
       "      <td>1984</td>\n",
       "      <td>38.600</td>\n",
       "      <td>1.122</td>\n",
       "      <td>0.344</td>\n",
       "      <td>0.854</td>\n",
       "      <td>1.408</td>\n",
       "      <td>1.721</td>\n",
       "      <td>1.200</td>\n",
       "    </tr>\n",
       "    <tr>\n",
       "      <th>4</th>\n",
       "      <td>1985</td>\n",
       "      <td>38.975</td>\n",
       "      <td>1.078</td>\n",
       "      <td>0.350</td>\n",
       "      <td>0.697</td>\n",
       "      <td>1.685</td>\n",
       "      <td>1.711</td>\n",
       "      <td>1.145</td>\n",
       "    </tr>\n",
       "  </tbody>\n",
       "</table>\n",
       "</div>"
      ],
      "text/plain": [
       "   Year  Electricity  Fuel_Oil  Bananas  Tomatoes  Orange_Juice   Beef  \\\n",
       "0  1981       31.552     1.150    0.343     0.792         1.141  1.856   \n",
       "1  1982       36.006     1.254    0.364     0.763         1.465  1.794   \n",
       "2  1983       37.184     1.194    0.332     0.726         1.418  1.756   \n",
       "3  1984       38.600     1.122    0.344     0.854         1.408  1.721   \n",
       "4  1985       38.975     1.078    0.350     0.697         1.685  1.711   \n",
       "\n",
       "   Gasoline  \n",
       "0     1.269  \n",
       "1     1.341  \n",
       "2     1.214  \n",
       "3     1.200  \n",
       "4     1.145  "
      ]
     },
     "execution_count": 80,
     "metadata": {},
     "output_type": "execute_result"
    }
   ],
   "source": [
    "data[1].head()"
   ]
  },
  {
   "cell_type": "code",
   "execution_count": 81,
   "metadata": {},
   "outputs": [
    {
     "data": {
      "text/html": [
       "<div>\n",
       "<style scoped>\n",
       "    .dataframe tbody tr th:only-of-type {\n",
       "        vertical-align: middle;\n",
       "    }\n",
       "\n",
       "    .dataframe tbody tr th {\n",
       "        vertical-align: top;\n",
       "    }\n",
       "\n",
       "    .dataframe thead th {\n",
       "        text-align: right;\n",
       "    }\n",
       "</style>\n",
       "<table border=\"1\" class=\"dataframe\">\n",
       "  <thead>\n",
       "    <tr style=\"text-align: right;\">\n",
       "      <th></th>\n",
       "      <th>Year</th>\n",
       "      <th>Electricity</th>\n",
       "      <th>Fuel_Oil</th>\n",
       "      <th>Bananas</th>\n",
       "      <th>Tomatoes</th>\n",
       "      <th>Orange_Juice</th>\n",
       "      <th>Beef</th>\n",
       "      <th>Gasoline</th>\n",
       "    </tr>\n",
       "  </thead>\n",
       "  <tbody>\n",
       "    <tr>\n",
       "      <th>21</th>\n",
       "      <td>2002</td>\n",
       "      <td>47.868</td>\n",
       "      <td>1.123</td>\n",
       "      <td>0.526</td>\n",
       "      <td>1.711</td>\n",
       "      <td>1.876</td>\n",
       "      <td>2.152</td>\n",
       "      <td>1.209</td>\n",
       "    </tr>\n",
       "    <tr>\n",
       "      <th>22</th>\n",
       "      <td>2003</td>\n",
       "      <td>47.663</td>\n",
       "      <td>1.396</td>\n",
       "      <td>0.512</td>\n",
       "      <td>1.472</td>\n",
       "      <td>1.848</td>\n",
       "      <td>2.131</td>\n",
       "      <td>1.557</td>\n",
       "    </tr>\n",
       "    <tr>\n",
       "      <th>23</th>\n",
       "      <td>2004</td>\n",
       "      <td>49.159</td>\n",
       "      <td>1.508</td>\n",
       "      <td>0.485</td>\n",
       "      <td>1.660</td>\n",
       "      <td>1.957</td>\n",
       "      <td>2.585</td>\n",
       "      <td>1.635</td>\n",
       "    </tr>\n",
       "    <tr>\n",
       "      <th>24</th>\n",
       "      <td>2005</td>\n",
       "      <td>50.847</td>\n",
       "      <td>1.859</td>\n",
       "      <td>0.490</td>\n",
       "      <td>2.162</td>\n",
       "      <td>1.872</td>\n",
       "      <td>2.478</td>\n",
       "      <td>1.866</td>\n",
       "    </tr>\n",
       "    <tr>\n",
       "      <th>25</th>\n",
       "      <td>2006</td>\n",
       "      <td>57.223</td>\n",
       "      <td>2.418</td>\n",
       "      <td>0.505</td>\n",
       "      <td>1.621</td>\n",
       "      <td>1.853</td>\n",
       "      <td>2.607</td>\n",
       "      <td>2.359</td>\n",
       "    </tr>\n",
       "  </tbody>\n",
       "</table>\n",
       "</div>"
      ],
      "text/plain": [
       "    Year  Electricity  Fuel_Oil  Bananas  Tomatoes  Orange_Juice   Beef  \\\n",
       "21  2002       47.868     1.123    0.526     1.711         1.876  2.152   \n",
       "22  2003       47.663     1.396    0.512     1.472         1.848  2.131   \n",
       "23  2004       49.159     1.508    0.485     1.660         1.957  2.585   \n",
       "24  2005       50.847     1.859    0.490     2.162         1.872  2.478   \n",
       "25  2006       57.223     2.418    0.505     1.621         1.853  2.607   \n",
       "\n",
       "    Gasoline  \n",
       "21     1.209  \n",
       "22     1.557  \n",
       "23     1.635  \n",
       "24     1.866  \n",
       "25     2.359  "
      ]
     },
     "execution_count": 81,
     "metadata": {},
     "output_type": "execute_result"
    }
   ],
   "source": [
    "data[1].tail()"
   ]
  },
  {
   "cell_type": "code",
   "execution_count": 82,
   "metadata": {},
   "outputs": [
    {
     "data": {
      "text/plain": [
       "Year            False\n",
       "Electricity     False\n",
       "Fuel_Oil        False\n",
       "Bananas         False\n",
       "Tomatoes        False\n",
       "Orange_Juice    False\n",
       "Beef            False\n",
       "Gasoline        False\n",
       "dtype: bool"
      ]
     },
     "execution_count": 82,
     "metadata": {},
     "output_type": "execute_result"
    }
   ],
   "source": [
    "data[1].isnull().any()"
   ]
  },
  {
   "cell_type": "code",
   "execution_count": 83,
   "metadata": {},
   "outputs": [
    {
     "data": {
      "text/plain": [
       "Year            False\n",
       "Electricity     False\n",
       "Fuel_Oil        False\n",
       "Bananas         False\n",
       "Tomatoes        False\n",
       "Orange_Juice    False\n",
       "Beef            False\n",
       "Gasoline        False\n",
       "dtype: bool"
      ]
     },
     "execution_count": 83,
     "metadata": {},
     "output_type": "execute_result"
    }
   ],
   "source": [
    "data[1].isna().any()"
   ]
  },
  {
   "cell_type": "code",
   "execution_count": 84,
   "metadata": {},
   "outputs": [
    {
     "data": {
      "text/plain": [
       "Year              int64\n",
       "Electricity     float64\n",
       "Fuel_Oil        float64\n",
       "Bananas         float64\n",
       "Tomatoes        float64\n",
       "Orange_Juice    float64\n",
       "Beef            float64\n",
       "Gasoline        float64\n",
       "dtype: object"
      ]
     },
     "execution_count": 84,
     "metadata": {},
     "output_type": "execute_result"
    }
   ],
   "source": [
    "data[1].dtypes"
   ]
  },
  {
   "cell_type": "code",
   "execution_count": 85,
   "metadata": {},
   "outputs": [
    {
     "data": {
      "text/plain": [
       "Year          int64\n",
       "Jan         float64\n",
       "Feb         float64\n",
       "Mar         float64\n",
       "Apr         float64\n",
       "May         float64\n",
       "Jun         float64\n",
       "Jul         float64\n",
       "Aug         float64\n",
       "Sep         float64\n",
       "Oct         float64\n",
       "Nov         float64\n",
       "Dec         float64\n",
       "CPI_Item     object\n",
       "dtype: object"
      ]
     },
     "execution_count": 85,
     "metadata": {},
     "output_type": "execute_result"
    }
   ],
   "source": [
    "data[2].dtypes"
   ]
  },
  {
   "cell_type": "code",
   "execution_count": 86,
   "metadata": {},
   "outputs": [
    {
     "name": "stdout",
     "output_type": "stream",
     "text": [
      "<class 'pandas.core.frame.DataFrame'>\n",
      "RangeIndex: 26 entries, 0 to 25\n",
      "Data columns (total 8 columns):\n",
      " #   Column        Non-Null Count  Dtype  \n",
      "---  ------        --------------  -----  \n",
      " 0   Year          26 non-null     int64  \n",
      " 1   Electricity   26 non-null     float64\n",
      " 2   Fuel_Oil      26 non-null     float64\n",
      " 3   Bananas       26 non-null     float64\n",
      " 4   Tomatoes      26 non-null     float64\n",
      " 5   Orange_Juice  26 non-null     float64\n",
      " 6   Beef          26 non-null     float64\n",
      " 7   Gasoline      26 non-null     float64\n",
      "dtypes: float64(7), int64(1)\n",
      "memory usage: 1.8 KB\n"
     ]
    }
   ],
   "source": [
    "data[1].info()"
   ]
  },
  {
   "cell_type": "code",
   "execution_count": 87,
   "metadata": {},
   "outputs": [
    {
     "name": "stdout",
     "output_type": "stream",
     "text": [
      "<class 'pandas.core.frame.DataFrame'>\n",
      "RangeIndex: 326 entries, 0 to 325\n",
      "Data columns (total 14 columns):\n",
      " #   Column    Non-Null Count  Dtype  \n",
      "---  ------    --------------  -----  \n",
      " 0   Year      326 non-null    int64  \n",
      " 1   Jan       326 non-null    float64\n",
      " 2   Feb       326 non-null    float64\n",
      " 3   Mar       326 non-null    float64\n",
      " 4   Apr       326 non-null    float64\n",
      " 5   May       326 non-null    float64\n",
      " 6   Jun       326 non-null    float64\n",
      " 7   Jul       326 non-null    float64\n",
      " 8   Aug       326 non-null    float64\n",
      " 9   Sep       326 non-null    float64\n",
      " 10  Oct       326 non-null    float64\n",
      " 11  Nov       326 non-null    float64\n",
      " 12  Dec       326 non-null    float64\n",
      " 13  CPI_Item  326 non-null    object \n",
      "dtypes: float64(12), int64(1), object(1)\n",
      "memory usage: 35.8+ KB\n"
     ]
    }
   ],
   "source": [
    "data[2].info()"
   ]
  },
  {
   "cell_type": "code",
   "execution_count": 88,
   "metadata": {},
   "outputs": [
    {
     "data": {
      "text/html": [
       "<div>\n",
       "<style scoped>\n",
       "    .dataframe tbody tr th:only-of-type {\n",
       "        vertical-align: middle;\n",
       "    }\n",
       "\n",
       "    .dataframe tbody tr th {\n",
       "        vertical-align: top;\n",
       "    }\n",
       "\n",
       "    .dataframe thead th {\n",
       "        text-align: right;\n",
       "    }\n",
       "</style>\n",
       "<table border=\"1\" class=\"dataframe\">\n",
       "  <thead>\n",
       "    <tr style=\"text-align: right;\">\n",
       "      <th></th>\n",
       "      <th>Year</th>\n",
       "      <th>Electricity</th>\n",
       "      <th>Fuel_Oil</th>\n",
       "      <th>Bananas</th>\n",
       "      <th>Tomatoes</th>\n",
       "      <th>Orange_Juice</th>\n",
       "      <th>Beef</th>\n",
       "      <th>Gasoline</th>\n",
       "    </tr>\n",
       "  </thead>\n",
       "  <tbody>\n",
       "    <tr>\n",
       "      <th>count</th>\n",
       "      <td>26.000000</td>\n",
       "      <td>26.000000</td>\n",
       "      <td>26.000000</td>\n",
       "      <td>26.000000</td>\n",
       "      <td>26.000000</td>\n",
       "      <td>26.000000</td>\n",
       "      <td>26.000000</td>\n",
       "      <td>26.000000</td>\n",
       "    </tr>\n",
       "    <tr>\n",
       "      <th>mean</th>\n",
       "      <td>1993.500000</td>\n",
       "      <td>44.295846</td>\n",
       "      <td>1.182269</td>\n",
       "      <td>0.440038</td>\n",
       "      <td>1.263885</td>\n",
       "      <td>1.703308</td>\n",
       "      <td>1.941077</td>\n",
       "      <td>1.282923</td>\n",
       "    </tr>\n",
       "    <tr>\n",
       "      <th>std</th>\n",
       "      <td>7.648529</td>\n",
       "      <td>5.563350</td>\n",
       "      <td>0.347292</td>\n",
       "      <td>0.064850</td>\n",
       "      <td>0.406704</td>\n",
       "      <td>0.199936</td>\n",
       "      <td>0.258682</td>\n",
       "      <td>0.309918</td>\n",
       "    </tr>\n",
       "    <tr>\n",
       "      <th>min</th>\n",
       "      <td>1981.000000</td>\n",
       "      <td>31.552000</td>\n",
       "      <td>0.817000</td>\n",
       "      <td>0.332000</td>\n",
       "      <td>0.697000</td>\n",
       "      <td>1.141000</td>\n",
       "      <td>1.662000</td>\n",
       "      <td>0.868000</td>\n",
       "    </tr>\n",
       "    <tr>\n",
       "      <th>25%</th>\n",
       "      <td>1987.250000</td>\n",
       "      <td>40.202000</td>\n",
       "      <td>0.966750</td>\n",
       "      <td>0.379000</td>\n",
       "      <td>0.881250</td>\n",
       "      <td>1.587500</td>\n",
       "      <td>1.795250</td>\n",
       "      <td>1.137500</td>\n",
       "    </tr>\n",
       "    <tr>\n",
       "      <th>50%</th>\n",
       "      <td>1993.500000</td>\n",
       "      <td>45.134000</td>\n",
       "      <td>1.124500</td>\n",
       "      <td>0.451500</td>\n",
       "      <td>1.268000</td>\n",
       "      <td>1.745000</td>\n",
       "      <td>1.853000</td>\n",
       "      <td>1.195000</td>\n",
       "    </tr>\n",
       "    <tr>\n",
       "      <th>75%</th>\n",
       "      <td>1999.750000</td>\n",
       "      <td>48.117000</td>\n",
       "      <td>1.249250</td>\n",
       "      <td>0.495250</td>\n",
       "      <td>1.571000</td>\n",
       "      <td>1.860500</td>\n",
       "      <td>1.989500</td>\n",
       "      <td>1.335250</td>\n",
       "    </tr>\n",
       "    <tr>\n",
       "      <th>max</th>\n",
       "      <td>2006.000000</td>\n",
       "      <td>57.223000</td>\n",
       "      <td>2.418000</td>\n",
       "      <td>0.526000</td>\n",
       "      <td>2.162000</td>\n",
       "      <td>2.005000</td>\n",
       "      <td>2.607000</td>\n",
       "      <td>2.359000</td>\n",
       "    </tr>\n",
       "  </tbody>\n",
       "</table>\n",
       "</div>"
      ],
      "text/plain": [
       "              Year  Electricity   Fuel_Oil    Bananas   Tomatoes  \\\n",
       "count    26.000000    26.000000  26.000000  26.000000  26.000000   \n",
       "mean   1993.500000    44.295846   1.182269   0.440038   1.263885   \n",
       "std       7.648529     5.563350   0.347292   0.064850   0.406704   \n",
       "min    1981.000000    31.552000   0.817000   0.332000   0.697000   \n",
       "25%    1987.250000    40.202000   0.966750   0.379000   0.881250   \n",
       "50%    1993.500000    45.134000   1.124500   0.451500   1.268000   \n",
       "75%    1999.750000    48.117000   1.249250   0.495250   1.571000   \n",
       "max    2006.000000    57.223000   2.418000   0.526000   2.162000   \n",
       "\n",
       "       Orange_Juice       Beef   Gasoline  \n",
       "count     26.000000  26.000000  26.000000  \n",
       "mean       1.703308   1.941077   1.282923  \n",
       "std        0.199936   0.258682   0.309918  \n",
       "min        1.141000   1.662000   0.868000  \n",
       "25%        1.587500   1.795250   1.137500  \n",
       "50%        1.745000   1.853000   1.195000  \n",
       "75%        1.860500   1.989500   1.335250  \n",
       "max        2.005000   2.607000   2.359000  "
      ]
     },
     "execution_count": 88,
     "metadata": {},
     "output_type": "execute_result"
    }
   ],
   "source": [
    "data[1].describe()"
   ]
  },
  {
   "cell_type": "code",
   "execution_count": 89,
   "metadata": {},
   "outputs": [
    {
     "data": {
      "text/html": [
       "<div>\n",
       "<style scoped>\n",
       "    .dataframe tbody tr th:only-of-type {\n",
       "        vertical-align: middle;\n",
       "    }\n",
       "\n",
       "    .dataframe tbody tr th {\n",
       "        vertical-align: top;\n",
       "    }\n",
       "\n",
       "    .dataframe thead th {\n",
       "        text-align: right;\n",
       "    }\n",
       "</style>\n",
       "<table border=\"1\" class=\"dataframe\">\n",
       "  <thead>\n",
       "    <tr style=\"text-align: right;\">\n",
       "      <th></th>\n",
       "      <th>Year</th>\n",
       "      <th>Jan</th>\n",
       "      <th>Feb</th>\n",
       "      <th>Mar</th>\n",
       "      <th>Apr</th>\n",
       "      <th>May</th>\n",
       "      <th>Jun</th>\n",
       "      <th>Jul</th>\n",
       "      <th>Aug</th>\n",
       "      <th>Sep</th>\n",
       "      <th>Oct</th>\n",
       "      <th>Nov</th>\n",
       "      <th>Dec</th>\n",
       "    </tr>\n",
       "  </thead>\n",
       "  <tbody>\n",
       "    <tr>\n",
       "      <th>count</th>\n",
       "      <td>326.000000</td>\n",
       "      <td>326.000000</td>\n",
       "      <td>326.000000</td>\n",
       "      <td>326.000000</td>\n",
       "      <td>326.000000</td>\n",
       "      <td>326.000000</td>\n",
       "      <td>326.000000</td>\n",
       "      <td>326.000000</td>\n",
       "      <td>326.000000</td>\n",
       "      <td>326.000000</td>\n",
       "      <td>326.000000</td>\n",
       "      <td>326.000000</td>\n",
       "      <td>326.000000</td>\n",
       "    </tr>\n",
       "    <tr>\n",
       "      <th>mean</th>\n",
       "      <td>1993.223926</td>\n",
       "      <td>4.801236</td>\n",
       "      <td>4.803748</td>\n",
       "      <td>4.823442</td>\n",
       "      <td>4.831077</td>\n",
       "      <td>4.837982</td>\n",
       "      <td>4.960555</td>\n",
       "      <td>4.981761</td>\n",
       "      <td>4.993239</td>\n",
       "      <td>4.984273</td>\n",
       "      <td>4.905166</td>\n",
       "      <td>4.882634</td>\n",
       "      <td>4.899026</td>\n",
       "    </tr>\n",
       "    <tr>\n",
       "      <th>std</th>\n",
       "      <td>8.039643</td>\n",
       "      <td>12.267154</td>\n",
       "      <td>12.282794</td>\n",
       "      <td>12.328573</td>\n",
       "      <td>12.316387</td>\n",
       "      <td>12.378210</td>\n",
       "      <td>12.787225</td>\n",
       "      <td>12.864804</td>\n",
       "      <td>12.881787</td>\n",
       "      <td>12.838395</td>\n",
       "      <td>12.588149</td>\n",
       "      <td>12.484724</td>\n",
       "      <td>12.497781</td>\n",
       "    </tr>\n",
       "    <tr>\n",
       "      <th>min</th>\n",
       "      <td>1980.000000</td>\n",
       "      <td>0.319000</td>\n",
       "      <td>0.345000</td>\n",
       "      <td>0.355000</td>\n",
       "      <td>0.353000</td>\n",
       "      <td>0.350000</td>\n",
       "      <td>0.348000</td>\n",
       "      <td>0.332000</td>\n",
       "      <td>0.332000</td>\n",
       "      <td>0.335000</td>\n",
       "      <td>0.317000</td>\n",
       "      <td>0.316000</td>\n",
       "      <td>0.315000</td>\n",
       "    </tr>\n",
       "    <tr>\n",
       "      <th>25%</th>\n",
       "      <td>1986.000000</td>\n",
       "      <td>0.765250</td>\n",
       "      <td>0.753000</td>\n",
       "      <td>0.761750</td>\n",
       "      <td>0.764250</td>\n",
       "      <td>0.752000</td>\n",
       "      <td>0.745500</td>\n",
       "      <td>0.753000</td>\n",
       "      <td>0.751250</td>\n",
       "      <td>0.762750</td>\n",
       "      <td>0.758750</td>\n",
       "      <td>0.766000</td>\n",
       "      <td>0.760000</td>\n",
       "    </tr>\n",
       "    <tr>\n",
       "      <th>50%</th>\n",
       "      <td>1993.000000</td>\n",
       "      <td>1.049500</td>\n",
       "      <td>1.045500</td>\n",
       "      <td>1.048500</td>\n",
       "      <td>1.065000</td>\n",
       "      <td>1.023500</td>\n",
       "      <td>1.024500</td>\n",
       "      <td>1.021000</td>\n",
       "      <td>1.023500</td>\n",
       "      <td>1.022500</td>\n",
       "      <td>1.032500</td>\n",
       "      <td>1.054500</td>\n",
       "      <td>1.055000</td>\n",
       "    </tr>\n",
       "    <tr>\n",
       "      <th>75%</th>\n",
       "      <td>2000.000000</td>\n",
       "      <td>1.654500</td>\n",
       "      <td>1.649500</td>\n",
       "      <td>1.645500</td>\n",
       "      <td>1.631500</td>\n",
       "      <td>1.597250</td>\n",
       "      <td>1.629750</td>\n",
       "      <td>1.611500</td>\n",
       "      <td>1.619000</td>\n",
       "      <td>1.632750</td>\n",
       "      <td>1.648500</td>\n",
       "      <td>1.663250</td>\n",
       "      <td>1.671500</td>\n",
       "    </tr>\n",
       "    <tr>\n",
       "      <th>max</th>\n",
       "      <td>2007.000000</td>\n",
       "      <td>59.043000</td>\n",
       "      <td>59.047000</td>\n",
       "      <td>59.297000</td>\n",
       "      <td>59.175000</td>\n",
       "      <td>59.779000</td>\n",
       "      <td>61.568000</td>\n",
       "      <td>61.562000</td>\n",
       "      <td>61.368000</td>\n",
       "      <td>61.457000</td>\n",
       "      <td>60.885000</td>\n",
       "      <td>60.418000</td>\n",
       "      <td>60.520000</td>\n",
       "    </tr>\n",
       "  </tbody>\n",
       "</table>\n",
       "</div>"
      ],
      "text/plain": [
       "              Year         Jan         Feb         Mar         Apr  \\\n",
       "count   326.000000  326.000000  326.000000  326.000000  326.000000   \n",
       "mean   1993.223926    4.801236    4.803748    4.823442    4.831077   \n",
       "std       8.039643   12.267154   12.282794   12.328573   12.316387   \n",
       "min    1980.000000    0.319000    0.345000    0.355000    0.353000   \n",
       "25%    1986.000000    0.765250    0.753000    0.761750    0.764250   \n",
       "50%    1993.000000    1.049500    1.045500    1.048500    1.065000   \n",
       "75%    2000.000000    1.654500    1.649500    1.645500    1.631500   \n",
       "max    2007.000000   59.043000   59.047000   59.297000   59.175000   \n",
       "\n",
       "              May         Jun         Jul         Aug         Sep         Oct  \\\n",
       "count  326.000000  326.000000  326.000000  326.000000  326.000000  326.000000   \n",
       "mean     4.837982    4.960555    4.981761    4.993239    4.984273    4.905166   \n",
       "std     12.378210   12.787225   12.864804   12.881787   12.838395   12.588149   \n",
       "min      0.350000    0.348000    0.332000    0.332000    0.335000    0.317000   \n",
       "25%      0.752000    0.745500    0.753000    0.751250    0.762750    0.758750   \n",
       "50%      1.023500    1.024500    1.021000    1.023500    1.022500    1.032500   \n",
       "75%      1.597250    1.629750    1.611500    1.619000    1.632750    1.648500   \n",
       "max     59.779000   61.568000   61.562000   61.368000   61.457000   60.885000   \n",
       "\n",
       "              Nov         Dec  \n",
       "count  326.000000  326.000000  \n",
       "mean     4.882634    4.899026  \n",
       "std     12.484724   12.497781  \n",
       "min      0.316000    0.315000  \n",
       "25%      0.766000    0.760000  \n",
       "50%      1.054500    1.055000  \n",
       "75%      1.663250    1.671500  \n",
       "max     60.418000   60.520000  "
      ]
     },
     "execution_count": 89,
     "metadata": {},
     "output_type": "execute_result"
    }
   ],
   "source": [
    "data[2].describe()"
   ]
  },
  {
   "cell_type": "code",
   "execution_count": 97,
   "metadata": {},
   "outputs": [
    {
     "data": {
      "text/plain": [
       "<AxesSubplot:>"
      ]
     },
     "execution_count": 97,
     "metadata": {},
     "output_type": "execute_result"
    },
    {
     "data": {
      "image/png": "[encoded data removed]",
      "text/plain": [
       "<Figure size 432x288 with 1 Axes>"
      ]
     },
     "metadata": {
      "needs_background": "light"
     },
     "output_type": "display_data"
    }
   ],
   "source": [
    "data[1].plot()"
   ]
  },
  {
   "cell_type": "code",
   "execution_count": 99,
   "metadata": {},
   "outputs": [
    {
     "data": {
      "text/plain": [
       "<AxesSubplot:>"
      ]
     },
     "execution_count": 99,
     "metadata": {},
     "output_type": "execute_result"
    },
    {
     "data": {
      "image/png": "[encoded data removed]",
      "text/plain": [
       "<Figure size 432x288 with 1 Axes>"
      ]
     },
     "metadata": {
      "needs_background": "light"
     },
     "output_type": "display_data"
    }
   ],
   "source": [
    "data[2].plot()"
   ]
  },
  {
   "cell_type": "code",
   "execution_count": 106,
   "metadata": {},
   "outputs": [
    {
     "data": {
      "text/html": [
       "<div>\n",
       "<style scoped>\n",
       "    .dataframe tbody tr th:only-of-type {\n",
       "        vertical-align: middle;\n",
       "    }\n",
       "\n",
       "    .dataframe tbody tr th {\n",
       "        vertical-align: top;\n",
       "    }\n",
       "\n",
       "    .dataframe thead th {\n",
       "        text-align: right;\n",
       "    }\n",
       "</style>\n",
       "<table border=\"1\" class=\"dataframe\">\n",
       "  <thead>\n",
       "    <tr style=\"text-align: right;\">\n",
       "      <th></th>\n",
       "      <th>Year</th>\n",
       "      <th>Electricity</th>\n",
       "      <th>Fuel_Oil</th>\n",
       "      <th>Bananas</th>\n",
       "      <th>Tomatoes</th>\n",
       "      <th>Orange_Juice</th>\n",
       "      <th>Beef</th>\n",
       "      <th>Gasoline</th>\n",
       "    </tr>\n",
       "  </thead>\n",
       "  <tbody>\n",
       "    <tr>\n",
       "      <th>0</th>\n",
       "      <td>1981</td>\n",
       "      <td>31.552</td>\n",
       "      <td>1.150</td>\n",
       "      <td>0.343</td>\n",
       "      <td>0.792</td>\n",
       "      <td>1.141</td>\n",
       "      <td>1.856</td>\n",
       "      <td>1.269</td>\n",
       "    </tr>\n",
       "    <tr>\n",
       "      <th>1</th>\n",
       "      <td>1982</td>\n",
       "      <td>36.006</td>\n",
       "      <td>1.254</td>\n",
       "      <td>0.364</td>\n",
       "      <td>0.763</td>\n",
       "      <td>1.465</td>\n",
       "      <td>1.794</td>\n",
       "      <td>1.341</td>\n",
       "    </tr>\n",
       "    <tr>\n",
       "      <th>2</th>\n",
       "      <td>1983</td>\n",
       "      <td>37.184</td>\n",
       "      <td>1.194</td>\n",
       "      <td>0.332</td>\n",
       "      <td>0.726</td>\n",
       "      <td>1.418</td>\n",
       "      <td>1.756</td>\n",
       "      <td>1.214</td>\n",
       "    </tr>\n",
       "    <tr>\n",
       "      <th>3</th>\n",
       "      <td>1984</td>\n",
       "      <td>38.600</td>\n",
       "      <td>1.122</td>\n",
       "      <td>0.344</td>\n",
       "      <td>0.854</td>\n",
       "      <td>1.408</td>\n",
       "      <td>1.721</td>\n",
       "      <td>1.200</td>\n",
       "    </tr>\n",
       "    <tr>\n",
       "      <th>4</th>\n",
       "      <td>1985</td>\n",
       "      <td>38.975</td>\n",
       "      <td>1.078</td>\n",
       "      <td>0.350</td>\n",
       "      <td>0.697</td>\n",
       "      <td>1.685</td>\n",
       "      <td>1.711</td>\n",
       "      <td>1.145</td>\n",
       "    </tr>\n",
       "  </tbody>\n",
       "</table>\n",
       "</div>"
      ],
      "text/plain": [
       "   Year  Electricity  Fuel_Oil  Bananas  Tomatoes  Orange_Juice   Beef  \\\n",
       "0  1981       31.552     1.150    0.343     0.792         1.141  1.856   \n",
       "1  1982       36.006     1.254    0.364     0.763         1.465  1.794   \n",
       "2  1983       37.184     1.194    0.332     0.726         1.418  1.756   \n",
       "3  1984       38.600     1.122    0.344     0.854         1.408  1.721   \n",
       "4  1985       38.975     1.078    0.350     0.697         1.685  1.711   \n",
       "\n",
       "   Gasoline  \n",
       "0     1.269  \n",
       "1     1.341  \n",
       "2     1.214  \n",
       "3     1.200  \n",
       "4     1.145  "
      ]
     },
     "execution_count": 106,
     "metadata": {},
     "output_type": "execute_result"
    }
   ],
   "source": [
    "data[1].head()"
   ]
  },
  {
   "cell_type": "code",
   "execution_count": 107,
   "metadata": {},
   "outputs": [
    {
     "data": {
      "text/html": [
       "<div>\n",
       "<style scoped>\n",
       "    .dataframe tbody tr th:only-of-type {\n",
       "        vertical-align: middle;\n",
       "    }\n",
       "\n",
       "    .dataframe tbody tr th {\n",
       "        vertical-align: top;\n",
       "    }\n",
       "\n",
       "    .dataframe thead th {\n",
       "        text-align: right;\n",
       "    }\n",
       "</style>\n",
       "<table border=\"1\" class=\"dataframe\">\n",
       "  <thead>\n",
       "    <tr style=\"text-align: right;\">\n",
       "      <th></th>\n",
       "      <th>Year</th>\n",
       "      <th>Jan</th>\n",
       "      <th>Feb</th>\n",
       "      <th>Mar</th>\n",
       "      <th>Apr</th>\n",
       "      <th>May</th>\n",
       "      <th>Jun</th>\n",
       "      <th>Jul</th>\n",
       "      <th>Aug</th>\n",
       "      <th>Sep</th>\n",
       "      <th>Oct</th>\n",
       "      <th>Nov</th>\n",
       "      <th>Dec</th>\n",
       "      <th>CPI_Item</th>\n",
       "    </tr>\n",
       "  </thead>\n",
       "  <tbody>\n",
       "    <tr>\n",
       "      <th>0</th>\n",
       "      <td>1980</td>\n",
       "      <td>26.698</td>\n",
       "      <td>27.701</td>\n",
       "      <td>28.150</td>\n",
       "      <td>28.433</td>\n",
       "      <td>28.960</td>\n",
       "      <td>30.931</td>\n",
       "      <td>31.513</td>\n",
       "      <td>31.569</td>\n",
       "      <td>31.755</td>\n",
       "      <td>30.890</td>\n",
       "      <td>30.381</td>\n",
       "      <td>30.967</td>\n",
       "      <td>Electricity_500_KWH</td>\n",
       "    </tr>\n",
       "    <tr>\n",
       "      <th>1</th>\n",
       "      <td>1981</td>\n",
       "      <td>31.552</td>\n",
       "      <td>32.097</td>\n",
       "      <td>32.473</td>\n",
       "      <td>32.848</td>\n",
       "      <td>33.100</td>\n",
       "      <td>34.962</td>\n",
       "      <td>35.744</td>\n",
       "      <td>36.496</td>\n",
       "      <td>36.273</td>\n",
       "      <td>34.872</td>\n",
       "      <td>34.919</td>\n",
       "      <td>34.960</td>\n",
       "      <td>Electricity_500_KWH</td>\n",
       "    </tr>\n",
       "    <tr>\n",
       "      <th>2</th>\n",
       "      <td>1982</td>\n",
       "      <td>36.006</td>\n",
       "      <td>36.086</td>\n",
       "      <td>36.741</td>\n",
       "      <td>36.799</td>\n",
       "      <td>36.438</td>\n",
       "      <td>38.047</td>\n",
       "      <td>38.403</td>\n",
       "      <td>38.471</td>\n",
       "      <td>38.265</td>\n",
       "      <td>37.388</td>\n",
       "      <td>36.655</td>\n",
       "      <td>37.074</td>\n",
       "      <td>Electricity_500_KWH</td>\n",
       "    </tr>\n",
       "    <tr>\n",
       "      <th>3</th>\n",
       "      <td>1983</td>\n",
       "      <td>37.184</td>\n",
       "      <td>37.306</td>\n",
       "      <td>37.393</td>\n",
       "      <td>37.117</td>\n",
       "      <td>37.424</td>\n",
       "      <td>39.216</td>\n",
       "      <td>39.507</td>\n",
       "      <td>39.592</td>\n",
       "      <td>39.578</td>\n",
       "      <td>38.781</td>\n",
       "      <td>38.325</td>\n",
       "      <td>38.188</td>\n",
       "      <td>Electricity_500_KWH</td>\n",
       "    </tr>\n",
       "    <tr>\n",
       "      <th>4</th>\n",
       "      <td>1984</td>\n",
       "      <td>38.600</td>\n",
       "      <td>38.832</td>\n",
       "      <td>39.066</td>\n",
       "      <td>39.487</td>\n",
       "      <td>39.539</td>\n",
       "      <td>41.635</td>\n",
       "      <td>42.406</td>\n",
       "      <td>43.350</td>\n",
       "      <td>40.801</td>\n",
       "      <td>39.441</td>\n",
       "      <td>38.935</td>\n",
       "      <td>38.626</td>\n",
       "      <td>Electricity_500_KWH</td>\n",
       "    </tr>\n",
       "  </tbody>\n",
       "</table>\n",
       "</div>"
      ],
      "text/plain": [
       "   Year     Jan     Feb     Mar     Apr     May     Jun     Jul     Aug  \\\n",
       "0  1980  26.698  27.701  28.150  28.433  28.960  30.931  31.513  31.569   \n",
       "1  1981  31.552  32.097  32.473  32.848  33.100  34.962  35.744  36.496   \n",
       "2  1982  36.006  36.086  36.741  36.799  36.438  38.047  38.403  38.471   \n",
       "3  1983  37.184  37.306  37.393  37.117  37.424  39.216  39.507  39.592   \n",
       "4  1984  38.600  38.832  39.066  39.487  39.539  41.635  42.406  43.350   \n",
       "\n",
       "      Sep     Oct     Nov     Dec             CPI_Item  \n",
       "0  31.755  30.890  30.381  30.967  Electricity_500_KWH  \n",
       "1  36.273  34.872  34.919  34.960  Electricity_500_KWH  \n",
       "2  38.265  37.388  36.655  37.074  Electricity_500_KWH  \n",
       "3  39.578  38.781  38.325  38.188  Electricity_500_KWH  \n",
       "4  40.801  39.441  38.935  38.626  Electricity_500_KWH  "
      ]
     },
     "execution_count": 107,
     "metadata": {},
     "output_type": "execute_result"
    }
   ],
   "source": [
    "data[2].head()"
   ]
  },
  {
   "cell_type": "code",
   "execution_count": 108,
   "metadata": {},
   "outputs": [
    {
     "data": {
      "text/html": [
       "<div>\n",
       "<style scoped>\n",
       "    .dataframe tbody tr th:only-of-type {\n",
       "        vertical-align: middle;\n",
       "    }\n",
       "\n",
       "    .dataframe tbody tr th {\n",
       "        vertical-align: top;\n",
       "    }\n",
       "\n",
       "    .dataframe thead th {\n",
       "        text-align: right;\n",
       "    }\n",
       "</style>\n",
       "<table border=\"1\" class=\"dataframe\">\n",
       "  <thead>\n",
       "    <tr style=\"text-align: right;\">\n",
       "      <th></th>\n",
       "      <th>Year</th>\n",
       "      <th>Jan</th>\n",
       "      <th>Feb</th>\n",
       "      <th>Mar</th>\n",
       "      <th>Apr</th>\n",
       "      <th>May</th>\n",
       "      <th>Jun</th>\n",
       "      <th>Jul</th>\n",
       "      <th>Aug</th>\n",
       "      <th>Sep</th>\n",
       "      <th>Oct</th>\n",
       "      <th>Nov</th>\n",
       "      <th>Dec</th>\n",
       "      <th>CPI_Item</th>\n",
       "    </tr>\n",
       "  </thead>\n",
       "  <tbody>\n",
       "    <tr>\n",
       "      <th>321</th>\n",
       "      <td>2003</td>\n",
       "      <td>1.042</td>\n",
       "      <td>1.048</td>\n",
       "      <td>1.042</td>\n",
       "      <td>1.047</td>\n",
       "      <td>1.001</td>\n",
       "      <td>0.961</td>\n",
       "      <td>1.002</td>\n",
       "      <td>0.996</td>\n",
       "      <td>0.994</td>\n",
       "      <td>0.969</td>\n",
       "      <td>0.953</td>\n",
       "      <td>0.954</td>\n",
       "      <td>Bread_1_lb_white</td>\n",
       "    </tr>\n",
       "    <tr>\n",
       "      <th>322</th>\n",
       "      <td>2004</td>\n",
       "      <td>0.946</td>\n",
       "      <td>0.943</td>\n",
       "      <td>0.947</td>\n",
       "      <td>0.974</td>\n",
       "      <td>0.960</td>\n",
       "      <td>0.979</td>\n",
       "      <td>0.985</td>\n",
       "      <td>0.996</td>\n",
       "      <td>0.985</td>\n",
       "      <td>0.972</td>\n",
       "      <td>0.976</td>\n",
       "      <td>0.970</td>\n",
       "      <td>Bread_1_lb_white</td>\n",
       "    </tr>\n",
       "    <tr>\n",
       "      <th>323</th>\n",
       "      <td>2005</td>\n",
       "      <td>0.997</td>\n",
       "      <td>0.982</td>\n",
       "      <td>1.002</td>\n",
       "      <td>1.004</td>\n",
       "      <td>1.086</td>\n",
       "      <td>1.090</td>\n",
       "      <td>1.067</td>\n",
       "      <td>1.060</td>\n",
       "      <td>1.052</td>\n",
       "      <td>1.043</td>\n",
       "      <td>1.055</td>\n",
       "      <td>1.046</td>\n",
       "      <td>Bread_1_lb_white</td>\n",
       "    </tr>\n",
       "    <tr>\n",
       "      <th>324</th>\n",
       "      <td>2006</td>\n",
       "      <td>1.046</td>\n",
       "      <td>1.029</td>\n",
       "      <td>1.040</td>\n",
       "      <td>1.072</td>\n",
       "      <td>1.086</td>\n",
       "      <td>1.074</td>\n",
       "      <td>1.071</td>\n",
       "      <td>1.088</td>\n",
       "      <td>1.083</td>\n",
       "      <td>1.097</td>\n",
       "      <td>1.143</td>\n",
       "      <td>1.137</td>\n",
       "      <td>Bread_1_lb_white</td>\n",
       "    </tr>\n",
       "    <tr>\n",
       "      <th>325</th>\n",
       "      <td>2007</td>\n",
       "      <td>1.153</td>\n",
       "      <td>1.168</td>\n",
       "      <td>1.161</td>\n",
       "      <td>1.201</td>\n",
       "      <td>1.192</td>\n",
       "      <td>1.193</td>\n",
       "      <td>1.209</td>\n",
       "      <td>1.210</td>\n",
       "      <td>1.212</td>\n",
       "      <td>1.274</td>\n",
       "      <td>1.235</td>\n",
       "      <td>1.280</td>\n",
       "      <td>Bread_1_lb_white</td>\n",
       "    </tr>\n",
       "  </tbody>\n",
       "</table>\n",
       "</div>"
      ],
      "text/plain": [
       "     Year    Jan    Feb    Mar    Apr    May    Jun    Jul    Aug    Sep  \\\n",
       "321  2003  1.042  1.048  1.042  1.047  1.001  0.961  1.002  0.996  0.994   \n",
       "322  2004  0.946  0.943  0.947  0.974  0.960  0.979  0.985  0.996  0.985   \n",
       "323  2005  0.997  0.982  1.002  1.004  1.086  1.090  1.067  1.060  1.052   \n",
       "324  2006  1.046  1.029  1.040  1.072  1.086  1.074  1.071  1.088  1.083   \n",
       "325  2007  1.153  1.168  1.161  1.201  1.192  1.193  1.209  1.210  1.212   \n",
       "\n",
       "       Oct    Nov    Dec          CPI_Item  \n",
       "321  0.969  0.953  0.954  Bread_1_lb_white  \n",
       "322  0.972  0.976  0.970  Bread_1_lb_white  \n",
       "323  1.043  1.055  1.046  Bread_1_lb_white  \n",
       "324  1.097  1.143  1.137  Bread_1_lb_white  \n",
       "325  1.274  1.235  1.280  Bread_1_lb_white  "
      ]
     },
     "execution_count": 108,
     "metadata": {},
     "output_type": "execute_result"
    }
   ],
   "source": [
    "data[2].tail()"
   ]
  },
  {
   "cell_type": "code",
   "execution_count": 115,
   "metadata": {},
   "outputs": [
    {
     "data": {
      "text/plain": [
       "0    31.552\n",
       "1    36.006\n",
       "2    37.184\n",
       "3    38.600\n",
       "4    38.975\n",
       "Name: Electricity, dtype: float64"
      ]
     },
     "execution_count": 115,
     "metadata": {},
     "output_type": "execute_result"
    }
   ],
   "source": [
    "data[1]['Electricity'].head()"
   ]
  },
  {
   "cell_type": "code",
   "execution_count": 120,
   "metadata": {},
   "outputs": [
    {
     "data": {
      "text/html": [
       "<div>\n",
       "<style scoped>\n",
       "    .dataframe tbody tr th:only-of-type {\n",
       "        vertical-align: middle;\n",
       "    }\n",
       "\n",
       "    .dataframe tbody tr th {\n",
       "        vertical-align: top;\n",
       "    }\n",
       "\n",
       "    .dataframe thead th {\n",
       "        text-align: right;\n",
       "    }\n",
       "</style>\n",
       "<table border=\"1\" class=\"dataframe\">\n",
       "  <thead>\n",
       "    <tr style=\"text-align: right;\">\n",
       "      <th></th>\n",
       "      <th>Fuel_Oil</th>\n",
       "      <th>Gasoline</th>\n",
       "    </tr>\n",
       "  </thead>\n",
       "  <tbody>\n",
       "    <tr>\n",
       "      <th>0</th>\n",
       "      <td>1.150</td>\n",
       "      <td>1.269</td>\n",
       "    </tr>\n",
       "    <tr>\n",
       "      <th>1</th>\n",
       "      <td>1.254</td>\n",
       "      <td>1.341</td>\n",
       "    </tr>\n",
       "    <tr>\n",
       "      <th>2</th>\n",
       "      <td>1.194</td>\n",
       "      <td>1.214</td>\n",
       "    </tr>\n",
       "    <tr>\n",
       "      <th>3</th>\n",
       "      <td>1.122</td>\n",
       "      <td>1.200</td>\n",
       "    </tr>\n",
       "    <tr>\n",
       "      <th>4</th>\n",
       "      <td>1.078</td>\n",
       "      <td>1.145</td>\n",
       "    </tr>\n",
       "  </tbody>\n",
       "</table>\n",
       "</div>"
      ],
      "text/plain": [
       "   Fuel_Oil  Gasoline\n",
       "0     1.150     1.269\n",
       "1     1.254     1.341\n",
       "2     1.194     1.214\n",
       "3     1.122     1.200\n",
       "4     1.078     1.145"
      ]
     },
     "execution_count": 120,
     "metadata": {},
     "output_type": "execute_result"
    }
   ],
   "source": [
    "data[1][['Fuel_Oil' ,'Gasoline']].head()"
   ]
  },
  {
   "cell_type": "code",
   "execution_count": 123,
   "metadata": {},
   "outputs": [
    {
     "data": {
      "text/html": [
       "<div>\n",
       "<style scoped>\n",
       "    .dataframe tbody tr th:only-of-type {\n",
       "        vertical-align: middle;\n",
       "    }\n",
       "\n",
       "    .dataframe tbody tr th {\n",
       "        vertical-align: top;\n",
       "    }\n",
       "\n",
       "    .dataframe thead th {\n",
       "        text-align: right;\n",
       "    }\n",
       "</style>\n",
       "<table border=\"1\" class=\"dataframe\">\n",
       "  <thead>\n",
       "    <tr style=\"text-align: right;\">\n",
       "      <th></th>\n",
       "      <th>Jan</th>\n",
       "      <th>Dec</th>\n",
       "    </tr>\n",
       "  </thead>\n",
       "  <tbody>\n",
       "    <tr>\n",
       "      <th>0</th>\n",
       "      <td>26.698</td>\n",
       "      <td>30.967</td>\n",
       "    </tr>\n",
       "    <tr>\n",
       "      <th>1</th>\n",
       "      <td>31.552</td>\n",
       "      <td>34.960</td>\n",
       "    </tr>\n",
       "    <tr>\n",
       "      <th>2</th>\n",
       "      <td>36.006</td>\n",
       "      <td>37.074</td>\n",
       "    </tr>\n",
       "    <tr>\n",
       "      <th>3</th>\n",
       "      <td>37.184</td>\n",
       "      <td>38.188</td>\n",
       "    </tr>\n",
       "    <tr>\n",
       "      <th>4</th>\n",
       "      <td>38.600</td>\n",
       "      <td>38.626</td>\n",
       "    </tr>\n",
       "  </tbody>\n",
       "</table>\n",
       "</div>"
      ],
      "text/plain": [
       "      Jan     Dec\n",
       "0  26.698  30.967\n",
       "1  31.552  34.960\n",
       "2  36.006  37.074\n",
       "3  37.184  38.188\n",
       "4  38.600  38.626"
      ]
     },
     "execution_count": 123,
     "metadata": {},
     "output_type": "execute_result"
    }
   ],
   "source": [
    "data[2][['Jan', 'Dec']].head()"
   ]
  },
  {
   "cell_type": "code",
   "execution_count": 126,
   "metadata": {},
   "outputs": [
    {
     "data": {
      "text/html": [
       "<div>\n",
       "<style scoped>\n",
       "    .dataframe tbody tr th:only-of-type {\n",
       "        vertical-align: middle;\n",
       "    }\n",
       "\n",
       "    .dataframe tbody tr th {\n",
       "        vertical-align: top;\n",
       "    }\n",
       "\n",
       "    .dataframe thead th {\n",
       "        text-align: right;\n",
       "    }\n",
       "</style>\n",
       "<table border=\"1\" class=\"dataframe\">\n",
       "  <thead>\n",
       "    <tr style=\"text-align: right;\">\n",
       "      <th></th>\n",
       "      <th>Feb</th>\n",
       "      <th>Aug</th>\n",
       "    </tr>\n",
       "  </thead>\n",
       "  <tbody>\n",
       "    <tr>\n",
       "      <th>0</th>\n",
       "      <td>27.701</td>\n",
       "      <td>31.569</td>\n",
       "    </tr>\n",
       "    <tr>\n",
       "      <th>1</th>\n",
       "      <td>32.097</td>\n",
       "      <td>36.496</td>\n",
       "    </tr>\n",
       "    <tr>\n",
       "      <th>2</th>\n",
       "      <td>36.086</td>\n",
       "      <td>38.471</td>\n",
       "    </tr>\n",
       "    <tr>\n",
       "      <th>3</th>\n",
       "      <td>37.306</td>\n",
       "      <td>39.592</td>\n",
       "    </tr>\n",
       "    <tr>\n",
       "      <th>4</th>\n",
       "      <td>38.832</td>\n",
       "      <td>43.350</td>\n",
       "    </tr>\n",
       "  </tbody>\n",
       "</table>\n",
       "</div>"
      ],
      "text/plain": [
       "      Feb     Aug\n",
       "0  27.701  31.569\n",
       "1  32.097  36.496\n",
       "2  36.086  38.471\n",
       "3  37.306  39.592\n",
       "4  38.832  43.350"
      ]
     },
     "execution_count": 126,
     "metadata": {},
     "output_type": "execute_result"
    }
   ],
   "source": [
    "data[2][['Feb', 'Aug']].head()"
   ]
  },
  {
   "cell_type": "code",
   "execution_count": 127,
   "metadata": {},
   "outputs": [
    {
     "data": {
      "text/html": [
       "<div>\n",
       "<style scoped>\n",
       "    .dataframe tbody tr th:only-of-type {\n",
       "        vertical-align: middle;\n",
       "    }\n",
       "\n",
       "    .dataframe tbody tr th {\n",
       "        vertical-align: top;\n",
       "    }\n",
       "\n",
       "    .dataframe thead th {\n",
       "        text-align: right;\n",
       "    }\n",
       "</style>\n",
       "<table border=\"1\" class=\"dataframe\">\n",
       "  <thead>\n",
       "    <tr style=\"text-align: right;\">\n",
       "      <th></th>\n",
       "      <th>Dec</th>\n",
       "      <th>CPI_Item</th>\n",
       "    </tr>\n",
       "  </thead>\n",
       "  <tbody>\n",
       "    <tr>\n",
       "      <th>0</th>\n",
       "      <td>30.967</td>\n",
       "      <td>Electricity_500_KWH</td>\n",
       "    </tr>\n",
       "    <tr>\n",
       "      <th>1</th>\n",
       "      <td>34.960</td>\n",
       "      <td>Electricity_500_KWH</td>\n",
       "    </tr>\n",
       "    <tr>\n",
       "      <th>2</th>\n",
       "      <td>37.074</td>\n",
       "      <td>Electricity_500_KWH</td>\n",
       "    </tr>\n",
       "    <tr>\n",
       "      <th>3</th>\n",
       "      <td>38.188</td>\n",
       "      <td>Electricity_500_KWH</td>\n",
       "    </tr>\n",
       "    <tr>\n",
       "      <th>4</th>\n",
       "      <td>38.626</td>\n",
       "      <td>Electricity_500_KWH</td>\n",
       "    </tr>\n",
       "  </tbody>\n",
       "</table>\n",
       "</div>"
      ],
      "text/plain": [
       "      Dec             CPI_Item\n",
       "0  30.967  Electricity_500_KWH\n",
       "1  34.960  Electricity_500_KWH\n",
       "2  37.074  Electricity_500_KWH\n",
       "3  38.188  Electricity_500_KWH\n",
       "4  38.626  Electricity_500_KWH"
      ]
     },
     "execution_count": 127,
     "metadata": {},
     "output_type": "execute_result"
    }
   ],
   "source": [
    "data[2][['Dec', 'CPI_Item']].head()"
   ]
  },
  {
   "cell_type": "code",
   "execution_count": 131,
   "metadata": {},
   "outputs": [
    {
     "data": {
      "text/plain": [
       "<AxesSubplot:>"
      ]
     },
     "execution_count": 131,
     "metadata": {},
     "output_type": "execute_result"
    },
    {
     "data": {
      "image/png": "[encoded data removed]",
      "text/plain": [
       "<Figure size 432x288 with 1 Axes>"
      ]
     },
     "metadata": {
      "needs_background": "light"
     },
     "output_type": "display_data"
    }
   ],
   "source": [
    "data[2][['Jan','Mar']].plot()"
   ]
  },
  {
   "cell_type": "code",
   "execution_count": 132,
   "metadata": {},
   "outputs": [
    {
     "data": {
      "text/html": [
       "<div>\n",
       "<style scoped>\n",
       "    .dataframe tbody tr th:only-of-type {\n",
       "        vertical-align: middle;\n",
       "    }\n",
       "\n",
       "    .dataframe tbody tr th {\n",
       "        vertical-align: top;\n",
       "    }\n",
       "\n",
       "    .dataframe thead th {\n",
       "        text-align: right;\n",
       "    }\n",
       "</style>\n",
       "<table border=\"1\" class=\"dataframe\">\n",
       "  <thead>\n",
       "    <tr style=\"text-align: right;\">\n",
       "      <th></th>\n",
       "      <th>Apr</th>\n",
       "      <th>Nov</th>\n",
       "    </tr>\n",
       "  </thead>\n",
       "  <tbody>\n",
       "    <tr>\n",
       "      <th>0</th>\n",
       "      <td>28.433</td>\n",
       "      <td>30.381</td>\n",
       "    </tr>\n",
       "    <tr>\n",
       "      <th>1</th>\n",
       "      <td>32.848</td>\n",
       "      <td>34.919</td>\n",
       "    </tr>\n",
       "    <tr>\n",
       "      <th>2</th>\n",
       "      <td>36.799</td>\n",
       "      <td>36.655</td>\n",
       "    </tr>\n",
       "    <tr>\n",
       "      <th>3</th>\n",
       "      <td>37.117</td>\n",
       "      <td>38.325</td>\n",
       "    </tr>\n",
       "    <tr>\n",
       "      <th>4</th>\n",
       "      <td>39.487</td>\n",
       "      <td>38.935</td>\n",
       "    </tr>\n",
       "  </tbody>\n",
       "</table>\n",
       "</div>"
      ],
      "text/plain": [
       "      Apr     Nov\n",
       "0  28.433  30.381\n",
       "1  32.848  34.919\n",
       "2  36.799  36.655\n",
       "3  37.117  38.325\n",
       "4  39.487  38.935"
      ]
     },
     "execution_count": 132,
     "metadata": {},
     "output_type": "execute_result"
    }
   ],
   "source": [
    "data[2][['Apr', 'Nov']].head()"
   ]
  },
  {
   "cell_type": "code",
   "execution_count": 136,
   "metadata": {},
   "outputs": [
    {
     "data": {
      "text/plain": [
       "<AxesSubplot:xlabel='Dec'>"
      ]
     },
     "execution_count": 136,
     "metadata": {},
     "output_type": "execute_result"
    },
    {
     "data": {
      "image/png": "[encoded data removed]",
      "text/plain": [
       "<Figure size 432x288 with 1 Axes>"
      ]
     },
     "metadata": {
      "needs_background": "light"
     },
     "output_type": "display_data"
    }
   ],
   "source": [
    "data[2].plot( y='Apr' , x='Dec', kind ='bar')"
   ]
  },
  {
   "cell_type": "code",
   "execution_count": 138,
   "metadata": {},
   "outputs": [
    {
     "data": {
      "text/plain": [
       "<AxesSubplot:xlabel='Jul', ylabel='May'>"
      ]
     },
     "execution_count": 138,
     "metadata": {},
     "output_type": "execute_result"
    },
    {
     "data": {
      "image/png": "[encoded data removed]",
      "text/plain": [
       "<Figure size 432x288 with 1 Axes>"
      ]
     },
     "metadata": {
      "needs_background": "light"
     },
     "output_type": "display_data"
    }
   ],
   "source": [
    "data[2].plot( y='May', x='Jul', kind='scatter')"
   ]
  },
  {
   "cell_type": "code",
   "execution_count": 140,
   "metadata": {},
   "outputs": [
    {
     "data": {
      "text/plain": [
       "<AxesSubplot:>"
      ]
     },
     "execution_count": 140,
     "metadata": {},
     "output_type": "execute_result"
    },
    {
     "data": {
      "image/png": "[encoded data removed]",
      "text/plain": [
       "<Figure size 432x288 with 1 Axes>"
      ]
     },
     "metadata": {
      "needs_background": "light"
     },
     "output_type": "display_data"
    }
   ],
   "source": [
    "data[1][['Bananas', 'Orange_Juice']].plot()"
   ]
  },
  {
   "cell_type": "code",
   "execution_count": 148,
   "metadata": {},
   "outputs": [
    {
     "data": {
      "text/plain": [
       "<AxesSubplot:>"
      ]
     },
     "execution_count": 148,
     "metadata": {},
     "output_type": "execute_result"
    },
    {
     "data": {
      "image/png": "[encoded data removed]",
      "text/plain": [
       "<Figure size 432x288 with 1 Axes>"
      ]
     },
     "metadata": {
      "needs_background": "light"
     },
     "output_type": "display_data"
    }
   ],
   "source": [
    "data[1].plot(y = 'Year', x= 'Beef', kind = 'box')"
   ]
  },
  {
   "cell_type": "code",
   "execution_count": 6,
   "metadata": {},
   "outputs": [],
   "source": [
    "import numpy as np\n",
    "import pandas as pd\n",
    "import matplotlib.pyplot as plt\n",
    "%matplotlib inline\n",
    "plt.rcParams.update= ({'figure.figsize':(7,5)},{'figure.dpi':100})"
   ]
  },
  {
   "cell_type": "code",
   "execution_count": 12,
   "metadata": {},
   "outputs": [],
   "source": [
    "x=['K','L','J','O','M','H']\n",
    "y=np.random.randint(low = 0, high = 100, size = 6)"
   ]
  },
  {
   "cell_type": "code",
   "execution_count": 14,
   "metadata": {},
   "outputs": [
    {
     "data": {
      "image/png": "[encoded data removed]",
      "text/plain": [
       "<Figure size 432x288 with 1 Axes>"
      ]
     },
     "metadata": {
      "needs_background": "light"
     },
     "output_type": "display_data"
    }
   ],
   "source": [
    "plt.bar(x,y)\n",
    "plt.xlabel('Collection of Data on weekly basis')\n",
    "plt.ylabel('Weekly progress of analysis')\n",
    "plt.title('Visualization of data')\n",
    "plt.show()"
   ]
  },
  {
   "cell_type": "code",
   "execution_count": null,
   "metadata": {},
   "outputs": [],
   "source": []
  }
 ],
 "metadata": {
  "kernelspec": {
   "display_name": "Python 3",
   "language": "python",
   "name": "python3"
  },
  "language_info": {
   "codemirror_mode": {
    "name": "ipython",
    "version": 3
   },
   "file_extension": ".py",
   "mimetype": "text/x-python",
   "name": "python",
   "nbconvert_exporter": "python",
   "pygments_lexer": "ipython3",
   "version": "3.8.5"
  }
 },
 "nbformat": 4,
 "nbformat_minor": 4
}
